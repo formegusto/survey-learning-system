{
 "cells": [
  {
   "cell_type": "code",
   "execution_count": 1,
   "id": "9fd03f56",
   "metadata": {},
   "outputs": [],
   "source": [
    "%load_ext autoreload\n",
    "%autoreload 2\n",
    "%reload_ext autoreload"
   ]
  },
  {
   "cell_type": "code",
   "execution_count": 25,
   "id": "24dd0161",
   "metadata": {},
   "outputs": [],
   "source": [
    "import numpy as np\n",
    "import pandas as pd\n",
    "import random as ran\n",
    "import datetime as dt\n",
    "import matplotlib.pyplot as plt\n",
    "\n",
    "from src import User, RFSimulation, generate_features, TargetRFModel"
   ]
  },
  {
   "cell_type": "markdown",
   "id": "20b72f33",
   "metadata": {},
   "source": [
    "# 1. 참여자 객체 생성\n",
    "- 성실 참여자 50명 ( 특정 feature 값에 반응 하는 참여자 )\n",
    "- 불성실 참여자 30명 ( feature의 값에 관계없이 설문점수를 주는 참여자 )\n",
    "    - 매번 랜덤하게 설문점수를 주는 참여자\n",
    "    - 무조건 1자로 설문점수를 주는 참여자\n",
    "- 매우 불성실 참여자 20명 ( 모든 설문점수에 20점을 주는 참여자 )"
   ]
  },
  {
   "cell_type": "code",
   "execution_count": 6,
   "id": "48c5a097",
   "metadata": {},
   "outputs": [],
   "source": [
    "# 성실 참여자 50명 생성\n",
    "users = list()\n",
    "for user_id in range(0, 50):\n",
    "    user = User(user_id, generate_features())\n",
    "    users.append(user)\n",
    "    \n",
    "# 불성실 참여자 30명 생성\n",
    "for user_id in range(50, 80):\n",
    "    user = User(user_id, [])\n",
    "    users.append(user)\n",
    "    \n",
    "# 매우불성실 참여자 20명 생성\n",
    "for user_id in range(80, 100):\n",
    "    user = User(user_id, [], True)\n",
    "    users.append(user)"
   ]
  },
  {
   "cell_type": "markdown",
   "id": "61257164",
   "metadata": {},
   "source": [
    "# 2. 임의 설문조사 실시 ( 랜덤 포레스트 훈련용 설문조사 )\n",
    "- 온도 : 10도에서 32도까지 랜덤한 값\n",
    "- 습도 : 30에서 80까지 랜덤한 값\n",
    "- 조도 : 200에서 1900까지 100단위로 랜덤한 값\n",
    "---\n",
    "#### 3개의 특징 조합으로 100명의 참여자들의 설문조사 시뮬레이션"
   ]
  },
  {
   "cell_type": "code",
   "execution_count": 7,
   "id": "1310e188",
   "metadata": {},
   "outputs": [],
   "source": [
    "now = dt.datetime.now()\n",
    "\n",
    "for days in range(0, 540):\n",
    "    now_after = now + dt.timedelta(days=days)\n",
    "    str_after = dt.datetime.strftime(now_after, '%Y-%m-%d')\n",
    "    \n",
    "    # 온도 10~32\n",
    "    ran_temp = ran.randrange(10, 33)\n",
    "    \n",
    "    # 습도 30 ~ 80\n",
    "    ran_hum = ran.randrange(30, 81)\n",
    "    \n",
    "    # 조도 200 ~ 1900 (100 단위)\n",
    "    ran_lux = ran.randrange(200, 1901, 100)\n",
    "    \n",
    "    for user in users:\n",
    "        _s = user.score(ran_temp,\n",
    "                       ran_hum,\n",
    "                       ran_lux)\n",
    "        user.save_survey(\n",
    "            days,\n",
    "            ran_temp,\n",
    "            ran_hum,\n",
    "            ran_lux,\n",
    "            _s\n",
    "        )"
   ]
  },
  {
   "cell_type": "code",
   "execution_count": 8,
   "id": "01120108",
   "metadata": {},
   "outputs": [
    {
     "data": {
      "text/html": [
       "<div>\n",
       "<style scoped>\n",
       "    .dataframe tbody tr th:only-of-type {\n",
       "        vertical-align: middle;\n",
       "    }\n",
       "\n",
       "    .dataframe tbody tr th {\n",
       "        vertical-align: top;\n",
       "    }\n",
       "\n",
       "    .dataframe thead th {\n",
       "        text-align: right;\n",
       "    }\n",
       "</style>\n",
       "<table border=\"1\" class=\"dataframe\">\n",
       "  <thead>\n",
       "    <tr style=\"text-align: right;\">\n",
       "      <th></th>\n",
       "      <th>no</th>\n",
       "      <th>temp</th>\n",
       "      <th>hum</th>\n",
       "      <th>lux</th>\n",
       "      <th>score</th>\n",
       "    </tr>\n",
       "  </thead>\n",
       "  <tbody>\n",
       "    <tr>\n",
       "      <th>0</th>\n",
       "      <td>0</td>\n",
       "      <td>23</td>\n",
       "      <td>53</td>\n",
       "      <td>500</td>\n",
       "      <td>54</td>\n",
       "    </tr>\n",
       "    <tr>\n",
       "      <th>1</th>\n",
       "      <td>1</td>\n",
       "      <td>25</td>\n",
       "      <td>55</td>\n",
       "      <td>1900</td>\n",
       "      <td>56</td>\n",
       "    </tr>\n",
       "    <tr>\n",
       "      <th>2</th>\n",
       "      <td>2</td>\n",
       "      <td>20</td>\n",
       "      <td>44</td>\n",
       "      <td>1800</td>\n",
       "      <td>56</td>\n",
       "    </tr>\n",
       "    <tr>\n",
       "      <th>3</th>\n",
       "      <td>3</td>\n",
       "      <td>16</td>\n",
       "      <td>60</td>\n",
       "      <td>1700</td>\n",
       "      <td>58</td>\n",
       "    </tr>\n",
       "    <tr>\n",
       "      <th>4</th>\n",
       "      <td>4</td>\n",
       "      <td>12</td>\n",
       "      <td>31</td>\n",
       "      <td>700</td>\n",
       "      <td>50</td>\n",
       "    </tr>\n",
       "  </tbody>\n",
       "</table>\n",
       "</div>"
      ],
      "text/plain": [
       "  no temp hum   lux score\n",
       "0  0   23  53   500    54\n",
       "1  1   25  55  1900    56\n",
       "2  2   20  44  1800    56\n",
       "3  3   16  60  1700    58\n",
       "4  4   12  31   700    50"
      ]
     },
     "execution_count": 8,
     "metadata": {},
     "output_type": "execute_result"
    }
   ],
   "source": [
    "users[0].survey.head()"
   ]
  },
  {
   "cell_type": "markdown",
   "id": "ccad0755",
   "metadata": {},
   "source": [
    "# 3. 온도, 습도, 조도 정규화\n",
    "- 후에 있을 RandomForeset 특징 중요도 측정을 공정하게 하기 위함"
   ]
  },
  {
   "cell_type": "code",
   "execution_count": 9,
   "id": "345ed371",
   "metadata": {},
   "outputs": [],
   "source": [
    "max_temp = users[0].survey['temp'].max()\n",
    "max_hum = users[0].survey['hum'].max()\n",
    "max_lux = users[0].survey['lux'].max()\n",
    "\n",
    "# 정규화\n",
    "norm_no = users[0].survey['no'] / users[0].survey['no'].max()\n",
    "norm_temp = users[0].survey['temp'] / max_temp\n",
    "norm_hum = users[0].survey['hum'] / max_hum\n",
    "norm_lux = users[0].survey['lux'] / max_lux\n",
    "\n",
    "for idx in range(0, 100):\n",
    "        users[idx].survey['no'] = norm_no\n",
    "        users[idx].survey['temp'] = norm_temp\n",
    "        users[idx].survey['hum'] = norm_hum\n",
    "        users[idx].survey['lux'] = norm_lux"
   ]
  },
  {
   "cell_type": "markdown",
   "id": "496a16eb",
   "metadata": {},
   "source": [
    "# 4. 참여자 별 특징 중요도 확인\n",
    "- 성실도가 높은 참여자들과 성실도가 낮은 참여자들간의 RandomForest 학습결과로 특징 중요도가 어떻게 나타나는지 확인"
   ]
  },
  {
   "cell_type": "code",
   "execution_count": 12,
   "id": "3a5ac64d",
   "metadata": {},
   "outputs": [],
   "source": [
    "features = np.array(['no', 'temp', 'hum', 'lux'])\n",
    "\n",
    "simulation = RFSimulation(users, features)\n",
    "simulation.run()"
   ]
  },
  {
   "cell_type": "markdown",
   "id": "ead15632",
   "metadata": {},
   "source": [
    "## 4-1. 참여도가 높은 참여자"
   ]
  },
  {
   "cell_type": "code",
   "execution_count": 13,
   "id": "14bdf545",
   "metadata": {},
   "outputs": [
    {
     "data": {
      "text/html": [
       "<div>\n",
       "<style scoped>\n",
       "    .dataframe tbody tr th:only-of-type {\n",
       "        vertical-align: middle;\n",
       "    }\n",
       "\n",
       "    .dataframe tbody tr th {\n",
       "        vertical-align: top;\n",
       "    }\n",
       "\n",
       "    .dataframe thead th {\n",
       "        text-align: right;\n",
       "    }\n",
       "</style>\n",
       "<table border=\"1\" class=\"dataframe\">\n",
       "  <thead>\n",
       "    <tr style=\"text-align: right;\">\n",
       "      <th></th>\n",
       "      <th>user id</th>\n",
       "      <th>imp features</th>\n",
       "      <th>RF imp features</th>\n",
       "      <th>mse</th>\n",
       "    </tr>\n",
       "  </thead>\n",
       "  <tbody>\n",
       "    <tr>\n",
       "      <th>0</th>\n",
       "      <td>0</td>\n",
       "      <td>temp,hum</td>\n",
       "      <td>temp,hum</td>\n",
       "      <td>2.514938</td>\n",
       "    </tr>\n",
       "    <tr>\n",
       "      <th>1</th>\n",
       "      <td>1</td>\n",
       "      <td>lux</td>\n",
       "      <td>lux</td>\n",
       "      <td>4.243414</td>\n",
       "    </tr>\n",
       "    <tr>\n",
       "      <th>2</th>\n",
       "      <td>2</td>\n",
       "      <td>temp,hum,lux</td>\n",
       "      <td>temp,hum,lux</td>\n",
       "      <td>0.443560</td>\n",
       "    </tr>\n",
       "    <tr>\n",
       "      <th>3</th>\n",
       "      <td>3</td>\n",
       "      <td>temp,lux</td>\n",
       "      <td>temp,lux</td>\n",
       "      <td>2.907931</td>\n",
       "    </tr>\n",
       "    <tr>\n",
       "      <th>4</th>\n",
       "      <td>4</td>\n",
       "      <td>hum,lux</td>\n",
       "      <td>hum,lux</td>\n",
       "      <td>2.231969</td>\n",
       "    </tr>\n",
       "  </tbody>\n",
       "</table>\n",
       "</div>"
      ],
      "text/plain": [
       "  user id  imp features RF imp features       mse\n",
       "0       0      temp,hum        temp,hum  2.514938\n",
       "1       1           lux             lux  4.243414\n",
       "2       2  temp,hum,lux    temp,hum,lux  0.443560\n",
       "3       3      temp,lux        temp,lux  2.907931\n",
       "4       4       hum,lux         hum,lux  2.231969"
      ]
     },
     "execution_count": 13,
     "metadata": {},
     "output_type": "execute_result"
    }
   ],
   "source": [
    "part_user = simulation._record[:50].copy()\n",
    "\n",
    "part_user.head()"
   ]
  },
  {
   "cell_type": "markdown",
   "id": "e702bb39",
   "metadata": {},
   "source": [
    "- imp features 는 실제로 참여자가 중요하게 생각하는 특징 값이고 이에 따라 설문점수를 반영한다.\n",
    "- RF imp features 는 RandomForest가 학습 후, 특정 참여자의 설문점수를 예측하는데에 중요하게 쓰인 특징들을 나타낸다.\n",
    "---\n",
    "참여도가 높은 참여자들의 일부를 봤을 때, imp features(실제 중요 특징)와 RF imp features(RandomForest 학습의 중요 특징)가 같은 값을 나타내는 것을 확인할 수 있었다."
   ]
  },
  {
   "cell_type": "markdown",
   "id": "ceea929f",
   "metadata": {},
   "source": [
    "#### 그리고 모든 참여도가 참여자들은 실제 중요 특징과 RandomForest 학습의 중요 특징이 모두 같게 나온 것을 확인할 수 있었다."
   ]
  },
  {
   "cell_type": "code",
   "execution_count": 16,
   "id": "1fd1473e",
   "metadata": {},
   "outputs": [
    {
     "data": {
      "text/html": [
       "<div>\n",
       "<style scoped>\n",
       "    .dataframe tbody tr th:only-of-type {\n",
       "        vertical-align: middle;\n",
       "    }\n",
       "\n",
       "    .dataframe tbody tr th {\n",
       "        vertical-align: top;\n",
       "    }\n",
       "\n",
       "    .dataframe thead th {\n",
       "        text-align: right;\n",
       "    }\n",
       "</style>\n",
       "<table border=\"1\" class=\"dataframe\">\n",
       "  <thead>\n",
       "    <tr style=\"text-align: right;\">\n",
       "      <th></th>\n",
       "      <th>총 참여자 수</th>\n",
       "      <th>중요 특징 비교</th>\n",
       "      <th>평균 mse</th>\n",
       "    </tr>\n",
       "  </thead>\n",
       "  <tbody>\n",
       "    <tr>\n",
       "      <th>0</th>\n",
       "      <td>50</td>\n",
       "      <td>50</td>\n",
       "      <td>3.141664</td>\n",
       "    </tr>\n",
       "  </tbody>\n",
       "</table>\n",
       "</div>"
      ],
      "text/plain": [
       "  총 참여자 수 중요 특징 비교    평균 mse\n",
       "0      50       50  3.141664"
      ]
     },
     "execution_count": 16,
     "metadata": {},
     "output_type": "execute_result"
    }
   ],
   "source": [
    "_analysis = pd.DataFrame(columns=['총 참여자 수','중요 특징 비교', '평균 mse'])\n",
    "\n",
    "user_cnt = len(part_user)\n",
    "compare_cnt = part_user[part_user['imp features'] == part_user['RF imp features']].count()['imp features']\n",
    "mean_mse = part_user[part_user['imp features'] == part_user['RF imp features']]['mse'].mean()\n",
    "\n",
    "_analysis = _analysis.append({\n",
    "    \"총 참여자 수\": str(user_cnt),\n",
    "    \"중요 특징 비교\": str(compare_cnt),\n",
    "    \"평균 mse\": mean_mse\n",
    "}, ignore_index=True)\n",
    "\n",
    "_analysis"
   ]
  },
  {
   "cell_type": "markdown",
   "id": "7d0b14ac",
   "metadata": {},
   "source": [
    "## 4-2. 참여도가 낮은 참여자 ( 랜덤하게 설문점수 진행 or 1자로 설문점수 진행 or 모든 설문에 20점으로 진행 )"
   ]
  },
  {
   "cell_type": "code",
   "execution_count": 17,
   "id": "313aca40",
   "metadata": {},
   "outputs": [
    {
     "data": {
      "text/html": [
       "<div>\n",
       "<style scoped>\n",
       "    .dataframe tbody tr th:only-of-type {\n",
       "        vertical-align: middle;\n",
       "    }\n",
       "\n",
       "    .dataframe tbody tr th {\n",
       "        vertical-align: top;\n",
       "    }\n",
       "\n",
       "    .dataframe thead th {\n",
       "        text-align: right;\n",
       "    }\n",
       "</style>\n",
       "<table border=\"1\" class=\"dataframe\">\n",
       "  <thead>\n",
       "    <tr style=\"text-align: right;\">\n",
       "      <th></th>\n",
       "      <th>user id</th>\n",
       "      <th>imp features</th>\n",
       "      <th>RF imp features</th>\n",
       "      <th>mse</th>\n",
       "    </tr>\n",
       "  </thead>\n",
       "  <tbody>\n",
       "    <tr>\n",
       "      <th>50</th>\n",
       "      <td>50</td>\n",
       "      <td></td>\n",
       "      <td>no</td>\n",
       "      <td>125.112444</td>\n",
       "    </tr>\n",
       "    <tr>\n",
       "      <th>51</th>\n",
       "      <td>51</td>\n",
       "      <td></td>\n",
       "      <td>no</td>\n",
       "      <td>124.501113</td>\n",
       "    </tr>\n",
       "    <tr>\n",
       "      <th>52</th>\n",
       "      <td>52</td>\n",
       "      <td></td>\n",
       "      <td>no</td>\n",
       "      <td>122.654763</td>\n",
       "    </tr>\n",
       "    <tr>\n",
       "      <th>53</th>\n",
       "      <td>53</td>\n",
       "      <td></td>\n",
       "      <td>no</td>\n",
       "      <td>127.651694</td>\n",
       "    </tr>\n",
       "    <tr>\n",
       "      <th>54</th>\n",
       "      <td>54</td>\n",
       "      <td></td>\n",
       "      <td>no</td>\n",
       "      <td>110.033934</td>\n",
       "    </tr>\n",
       "  </tbody>\n",
       "</table>\n",
       "</div>"
      ],
      "text/plain": [
       "   user id imp features RF imp features         mse\n",
       "50      50                           no  125.112444\n",
       "51      51                           no  124.501113\n",
       "52      52                           no  122.654763\n",
       "53      53                           no  127.651694\n",
       "54      54                           no  110.033934"
      ]
     },
     "execution_count": 17,
     "metadata": {},
     "output_type": "execute_result"
    }
   ],
   "source": [
    "unpart_user = simulation._record[50:].copy()\n",
    "\n",
    "unpart_user.head()"
   ]
  },
  {
   "cell_type": "markdown",
   "id": "de918312",
   "metadata": {},
   "source": [
    "- 참여도가 낮은 참여자들은 매 설문조사 때 마다 점수가 달라져서 설문번호(no)가 가장 중요한 특징으로 RandomForest 학습 결과로 나타났다.\n",
    "- 또한, 실제 설문 점수 값과 훈련의 결과로 나오는 점수 값의 차이를 보여주는 mse(mean squared error) 값이 참여도가 높은 참여자에 비해 매우 큰 값을 보여줬다."
   ]
  },
  {
   "cell_type": "code",
   "execution_count": 18,
   "id": "aa11d79b",
   "metadata": {},
   "outputs": [
    {
     "data": {
      "text/html": [
       "<div>\n",
       "<style scoped>\n",
       "    .dataframe tbody tr th:only-of-type {\n",
       "        vertical-align: middle;\n",
       "    }\n",
       "\n",
       "    .dataframe tbody tr th {\n",
       "        vertical-align: top;\n",
       "    }\n",
       "\n",
       "    .dataframe thead th {\n",
       "        text-align: right;\n",
       "    }\n",
       "</style>\n",
       "<table border=\"1\" class=\"dataframe\">\n",
       "  <thead>\n",
       "    <tr style=\"text-align: right;\">\n",
       "      <th></th>\n",
       "      <th>user id</th>\n",
       "      <th>imp features</th>\n",
       "      <th>RF imp features</th>\n",
       "      <th>mse</th>\n",
       "    </tr>\n",
       "  </thead>\n",
       "  <tbody>\n",
       "    <tr>\n",
       "      <th>80</th>\n",
       "      <td>80</td>\n",
       "      <td></td>\n",
       "      <td></td>\n",
       "      <td>0.0</td>\n",
       "    </tr>\n",
       "    <tr>\n",
       "      <th>81</th>\n",
       "      <td>81</td>\n",
       "      <td></td>\n",
       "      <td></td>\n",
       "      <td>0.0</td>\n",
       "    </tr>\n",
       "    <tr>\n",
       "      <th>82</th>\n",
       "      <td>82</td>\n",
       "      <td></td>\n",
       "      <td></td>\n",
       "      <td>0.0</td>\n",
       "    </tr>\n",
       "    <tr>\n",
       "      <th>83</th>\n",
       "      <td>83</td>\n",
       "      <td></td>\n",
       "      <td></td>\n",
       "      <td>0.0</td>\n",
       "    </tr>\n",
       "    <tr>\n",
       "      <th>84</th>\n",
       "      <td>84</td>\n",
       "      <td></td>\n",
       "      <td></td>\n",
       "      <td>0.0</td>\n",
       "    </tr>\n",
       "  </tbody>\n",
       "</table>\n",
       "</div>"
      ],
      "text/plain": [
       "   user id imp features RF imp features  mse\n",
       "80      80                               0.0\n",
       "81      81                               0.0\n",
       "82      82                               0.0\n",
       "83      83                               0.0\n",
       "84      84                               0.0"
      ]
     },
     "execution_count": 18,
     "metadata": {},
     "output_type": "execute_result"
    }
   ],
   "source": [
    "unpart_user[30:].head()"
   ]
  },
  {
   "cell_type": "markdown",
   "id": "5d2a64bf",
   "metadata": {},
   "source": [
    "- 그리고 매번 설문점수를 20점 만점으로 주는 참여자들은 하나의 점수만으로 예측이 되기 때문에, RandomForest 모델이 중요 특징을 선정해내지 못했고, mse 또한 0의 값을 보여줬다."
   ]
  },
  {
   "cell_type": "markdown",
   "id": "c4decc0b",
   "metadata": {},
   "source": [
    "# 5. 해당 설문조사 대상의 주요 특징 찾아내기\n",
    "- 위에서 참여도가 높은 참여자와 참여도가 낮은 참여자를 구분해내는 방법을 보여줬다.\n",
    "- 참여도가 높은 참여자들 만으로 다시 구성하여, 이들의 평균점수로 RandomForest 학습을 시키면, 설문조사 대상(특정 건물 혹은 특정 호)의 중요 특징들을 확인할 수 있을 것이라고 생각했다. 실제 사용자들이 중요하게 생각하는 특징들의 수와, 설문조사 대상을 RandomForest에 학습시켜 나온 중요 특징들은 어떤 차이를 보이는지 확인해보자.\n",
    "- 설문번호(no)는 참여도가 높은 참여자와 낮은 참여자를 구분해내기 위해 쓰인 특징임으로, 해당 테스트에서는 쓰이지 않는다."
   ]
  },
  {
   "cell_type": "markdown",
   "id": "ebeaea21",
   "metadata": {},
   "source": [
    "## 5-1. 실제 사용자들이 중요하게 생각하는 특징들의 count 값"
   ]
  },
  {
   "cell_type": "code",
   "execution_count": 19,
   "id": "befcc5ff",
   "metadata": {},
   "outputs": [],
   "source": [
    "features = np.array(['temp', 'hum', 'lux'])\n",
    "\n",
    "simulation = RFSimulation(users, features)\n",
    "simulation.run()\n",
    "\n",
    "part_user = simulation._record[:50].copy()\n",
    "\n",
    "anal_user = part_user.copy()\n",
    "\n",
    "anal_user['temp'] = part_user['imp features'].map(lambda x: \"temp\" in x)\n",
    "anal_user['hum'] = part_user['imp features'].map(lambda x: \"hum\" in x)\n",
    "anal_user['lux'] = part_user['imp features'].map(lambda x: \"lux\" in x)\n",
    "\n",
    "apt_anal = pd.DataFrame()\n",
    "apt_anal['온도'] = [anal_user[anal_user['temp'] == True].count().values[0]]\n",
    "apt_anal['습도'] = [anal_user[anal_user['hum'] == True].count().values[0]]\n",
    "apt_anal['조도'] = [anal_user[anal_user['lux'] == True].count().values[0]]"
   ]
  },
  {
   "cell_type": "code",
   "execution_count": 20,
   "id": "06e02fcc",
   "metadata": {},
   "outputs": [
    {
     "data": {
      "text/html": [
       "<div>\n",
       "<style scoped>\n",
       "    .dataframe tbody tr th:only-of-type {\n",
       "        vertical-align: middle;\n",
       "    }\n",
       "\n",
       "    .dataframe tbody tr th {\n",
       "        vertical-align: top;\n",
       "    }\n",
       "\n",
       "    .dataframe thead th {\n",
       "        text-align: right;\n",
       "    }\n",
       "</style>\n",
       "<table border=\"1\" class=\"dataframe\">\n",
       "  <thead>\n",
       "    <tr style=\"text-align: right;\">\n",
       "      <th></th>\n",
       "      <th>온도</th>\n",
       "      <th>습도</th>\n",
       "      <th>조도</th>\n",
       "    </tr>\n",
       "  </thead>\n",
       "  <tbody>\n",
       "    <tr>\n",
       "      <th>0</th>\n",
       "      <td>29</td>\n",
       "      <td>31</td>\n",
       "      <td>24</td>\n",
       "    </tr>\n",
       "  </tbody>\n",
       "</table>\n",
       "</div>"
      ],
      "text/plain": [
       "   온도  습도  조도\n",
       "0  29  31  24"
      ]
     },
     "execution_count": 20,
     "metadata": {},
     "output_type": "execute_result"
    }
   ],
   "source": [
    "apt_anal"
   ]
  },
  {
   "cell_type": "markdown",
   "id": "a51d0998",
   "metadata": {},
   "source": [
    "## 5-2. 설문조사 타깃의 RandomForest 학습을 위한 특징값과 사용자들의 평균점수 데이터 생성"
   ]
  },
  {
   "cell_type": "code",
   "execution_count": 21,
   "id": "b8babbfb",
   "metadata": {},
   "outputs": [
    {
     "name": "stdout",
     "output_type": "stream",
     "text": [
      "설문조사 특징 데이터 (위에서 참여자들의 RF Model을 학습할 때 사용한 특징들과 같다.)\n",
      "[[0.71875 0.6625 0.2631578947368421]\n",
      " [0.78125 0.6875 1.0]\n",
      " [0.625 0.55 0.9473684210526315]]\n",
      "\n",
      "설문점수 데이터 (참여도가 높은 참여자들의 설문점수의 평균으로 만들어졌다.)\n",
      "[53.76 53.36 54.92]\n"
     ]
    }
   ],
   "source": [
    "survey_mean = np.array([])\n",
    "feature_tmp = np.array([])\n",
    "\n",
    "for _ in users[0].survey.values:\n",
    "    feature_tmp = np.append(feature_tmp,_[1:4])\n",
    "feature_tmp = feature_tmp.reshape(-1, 3)\n",
    "\n",
    "for survey_no in range(0,540):\n",
    "    _tmp = np.array([])\n",
    "    for user_no in range(0, 50):\n",
    "        _tmp = np.append(_tmp, users[user_no].survey.loc[survey_no]['score'])\n",
    "    survey_mean = np.append(survey_mean,_tmp.mean())\n",
    "    \n",
    "print(\"설문조사 특징 데이터 (위에서 참여자들의 RF Model을 학습할 때 사용한 특징들과 같다.)\")\n",
    "print(feature_tmp[:3])\n",
    "print()\n",
    "print(\"설문점수 데이터 (참여도가 높은 참여자들의 설문점수의 평균으로 만들어졌다.)\")\n",
    "print(survey_mean[:3])"
   ]
  },
  {
   "cell_type": "markdown",
   "id": "7c50bc9f",
   "metadata": {},
   "source": [
    "## 5-3. 설문조사 대상의 RandomForest Model 학습 및 특징중요도 결과 확인"
   ]
  },
  {
   "cell_type": "code",
   "execution_count": 22,
   "id": "2bca9f74",
   "metadata": {},
   "outputs": [
    {
     "name": "stdout",
     "output_type": "stream",
     "text": [
      "mse: 0.24399211639578441\n"
     ]
    }
   ],
   "source": [
    "RFModel = TargetRFModel(n_estimators=100,\n",
    "                            max_features=3,\n",
    "                            oob_score=False,random_state=531,\n",
    "                           features=feature_tmp,\n",
    "                           labels=survey_mean)\n",
    "RFModel.fit()\n",
    "RFModel.predict()\n",
    "mse = RFModel.mse\n",
    "print(\"mse:\",mse)"
   ]
  },
  {
   "cell_type": "code",
   "execution_count": 23,
   "id": "0d09b86d",
   "metadata": {},
   "outputs": [],
   "source": [
    "features = np.array(['temp', 'hum', 'lux'])\n",
    "\n",
    "feature_importance = RFModel.feature_importances_\n",
    "if len(set(feature_importance)) == 1:\n",
    "    feature_importance = RFModel.feature_importances_\n",
    "else:    \n",
    "    feature_importance = feature_importance / feature_importance.max()\n",
    "\n",
    "sorted_idx = np.argsort(feature_importance)\n",
    "bar_pos = np.arange(sorted_idx.shape[0]) + .5\n",
    "\n",
    "_features = features[sorted_idx]"
   ]
  },
  {
   "cell_type": "markdown",
   "id": "1284696e",
   "metadata": {},
   "source": [
    "실제로 사용자들이 중요하게 생각하는 특징들은 습도(31) > 온도(29) > 조도(24) 순이었으며, 습도와 온도의 선호도 차이는 크게 안나서인지, 온도가 가장 특징 중요도에 많이 반영되었다. 하지만 어느정도 차이를 보이는 조도는 중요도 면에서 가장 아래에 위치했다."
   ]
  },
  {
   "cell_type": "code",
   "execution_count": 26,
   "id": "df54b524",
   "metadata": {},
   "outputs": [
    {
     "data": {
      "image/png": "[encoded data removed]",
      "text/plain": [
       "<Figure size 432x288 with 1 Axes>"
      ]
     },
     "metadata": {
      "needs_background": "light"
     },
     "output_type": "display_data"
    }
   ],
   "source": [
    "plt.barh(bar_pos, feature_importance[sorted_idx], align='center')\n",
    "plt.yticks(bar_pos, _features)\n",
    "plt.xlabel(\"Variable Importance\")\n",
    "plt.show()"
   ]
  },
  {
   "cell_type": "markdown",
   "id": "95ea2139",
   "metadata": {},
   "source": [
    "# 6. 모델 활용하기\n",
    "- 위에서 만들어진 설문조사 대상의 RandomForest Model 을 어떻게 활용할 수 있는지 확인해본다."
   ]
  },
  {
   "cell_type": "markdown",
   "id": "615158e1",
   "metadata": {},
   "source": [
    "## 6-1. 적합도 (오차 확인)\n",
    "- 다시 한번 임의의 설문조사를 진행해보고, 실제 사용자 평균 점수와 설문조사 대상의 RandomForest Model이 예측한 값의 오차를 확인한다. 이로써 해당 모델이 예측을 잘 해내는지에 대한 적합도를 확인해보자."
   ]
  },
  {
   "cell_type": "code",
   "execution_count": 27,
   "id": "f019d6db",
   "metadata": {},
   "outputs": [],
   "source": [
    "new_survey = pd.DataFrame(columns=['온도','습도','조도','실제 설문 점수 (평균)', '예측 설문 점수', '오차'])\n",
    "\n",
    "for days in range(0, 500):\n",
    "    now_after = now + dt.timedelta(days=days)\n",
    "    str_after = dt.datetime.strftime(now_after, '%Y-%m-%d')\n",
    "    \n",
    "    # 온도 10~32\n",
    "    ran_temp = ran.randrange(10, 33)\n",
    "    \n",
    "    # 습도 30 ~ 80\n",
    "    ran_hum = ran.randrange(30, 81)\n",
    "    \n",
    "    # 조도 200 ~ 1900 (100 단위)\n",
    "    ran_lux = ran.randrange(200, 1901, 100)\n",
    "    \n",
    "    \n",
    "    np_features = np.array([[ran_temp / max_temp,\n",
    "                             ran_hum / max_hum, \n",
    "                             ran_lux / max_lux]])\n",
    "    user_scores = np.array([])\n",
    "    for user_idx in range(0,50):\n",
    "        _s = users[user_idx].score(ran_temp,\n",
    "                       ran_hum,\n",
    "                       ran_lux)\n",
    "        user_scores = np.append(user_scores,\n",
    "                               _s)\n",
    "    \n",
    "    new_survey.loc[days] = [\n",
    "        ran_temp,\n",
    "        ran_hum,\n",
    "        ran_lux,\n",
    "        user_scores.mean(),\n",
    "        RFModel.predict(np_features)[0],\n",
    "        abs(user_scores.mean() - RFModel.predict(np_features)[0])\n",
    "    ]"
   ]
  },
  {
   "cell_type": "code",
   "execution_count": 28,
   "id": "0fb444aa",
   "metadata": {},
   "outputs": [
    {
     "name": "stdout",
     "output_type": "stream",
     "text": [
      "해당 모델의 오차 평균은 0.339점 입니다.\n"
     ]
    },
    {
     "data": {
      "text/html": [
       "<div>\n",
       "<style scoped>\n",
       "    .dataframe tbody tr th:only-of-type {\n",
       "        vertical-align: middle;\n",
       "    }\n",
       "\n",
       "    .dataframe tbody tr th {\n",
       "        vertical-align: top;\n",
       "    }\n",
       "\n",
       "    .dataframe thead th {\n",
       "        text-align: right;\n",
       "    }\n",
       "</style>\n",
       "<table border=\"1\" class=\"dataframe\">\n",
       "  <thead>\n",
       "    <tr style=\"text-align: right;\">\n",
       "      <th></th>\n",
       "      <th>온도</th>\n",
       "      <th>습도</th>\n",
       "      <th>조도</th>\n",
       "      <th>실제 설문 점수 (평균)</th>\n",
       "      <th>예측 설문 점수</th>\n",
       "      <th>오차</th>\n",
       "    </tr>\n",
       "  </thead>\n",
       "  <tbody>\n",
       "    <tr>\n",
       "      <th>0</th>\n",
       "      <td>16.0</td>\n",
       "      <td>34.0</td>\n",
       "      <td>1400.0</td>\n",
       "      <td>54.66</td>\n",
       "      <td>54.9546</td>\n",
       "      <td>0.2946</td>\n",
       "    </tr>\n",
       "    <tr>\n",
       "      <th>1</th>\n",
       "      <td>19.0</td>\n",
       "      <td>77.0</td>\n",
       "      <td>400.0</td>\n",
       "      <td>53.04</td>\n",
       "      <td>52.6354</td>\n",
       "      <td>0.4046</td>\n",
       "    </tr>\n",
       "    <tr>\n",
       "      <th>2</th>\n",
       "      <td>17.0</td>\n",
       "      <td>63.0</td>\n",
       "      <td>1900.0</td>\n",
       "      <td>53.22</td>\n",
       "      <td>53.6196</td>\n",
       "      <td>0.3996</td>\n",
       "    </tr>\n",
       "    <tr>\n",
       "      <th>3</th>\n",
       "      <td>18.0</td>\n",
       "      <td>54.0</td>\n",
       "      <td>600.0</td>\n",
       "      <td>55.68</td>\n",
       "      <td>55.5956</td>\n",
       "      <td>0.0844</td>\n",
       "    </tr>\n",
       "    <tr>\n",
       "      <th>4</th>\n",
       "      <td>21.0</td>\n",
       "      <td>73.0</td>\n",
       "      <td>1200.0</td>\n",
       "      <td>54.20</td>\n",
       "      <td>54.1814</td>\n",
       "      <td>0.0186</td>\n",
       "    </tr>\n",
       "  </tbody>\n",
       "</table>\n",
       "</div>"
      ],
      "text/plain": [
       "     온도    습도      조도  실제 설문 점수 (평균)  예측 설문 점수      오차\n",
       "0  16.0  34.0  1400.0          54.66   54.9546  0.2946\n",
       "1  19.0  77.0   400.0          53.04   52.6354  0.4046\n",
       "2  17.0  63.0  1900.0          53.22   53.6196  0.3996\n",
       "3  18.0  54.0   600.0          55.68   55.5956  0.0844\n",
       "4  21.0  73.0  1200.0          54.20   54.1814  0.0186"
      ]
     },
     "execution_count": 28,
     "metadata": {},
     "output_type": "execute_result"
    }
   ],
   "source": [
    "print(\"해당 모델의 오차 평균은 {}점 입니다.\".format(round(new_survey['오차'].mean() * 1000) / 1000))\n",
    "new_survey.head()"
   ]
  },
  {
   "cell_type": "markdown",
   "id": "4d71e4db",
   "metadata": {},
   "source": [
    "## 6-2 특징 별 참여자들 선호 구간 확인하기\n",
    "- 위에서 모델의 적합도를 살펴봤다. 오차도 그렇게 크지 않은 수치를 나타냈기 때문에, 충분히 예측모델로서의 가치가 있다고 생각을 한다.\n",
    "- 예측모델이 만들어졌으니, 특징 별로 변화를 주어 설문점수를 예측하는 것이 가능해졌다. 아래는 한 개의 특징에만 변화를 주고, 나머지 특징은 고정값으로 놔두면서 사용자의 점수가 높아지는 구간 이동평균을 통해서 확인할 것 이고, 이를 통해 특징 별 참여자들이 가장 선호 하는 구간을 확인하는 과정을 보여준다."
   ]
  },
  {
   "cell_type": "markdown",
   "id": "dc0e4b00",
   "metadata": {},
   "source": [
    "### 6-2-1. 온도"
   ]
  },
  {
   "cell_type": "code",
   "execution_count": 29,
   "id": "48df916d",
   "metadata": {
    "scrolled": true
   },
   "outputs": [
    {
     "data": {
      "text/html": [
       "<div>\n",
       "<style scoped>\n",
       "    .dataframe tbody tr th:only-of-type {\n",
       "        vertical-align: middle;\n",
       "    }\n",
       "\n",
       "    .dataframe tbody tr th {\n",
       "        vertical-align: top;\n",
       "    }\n",
       "\n",
       "    .dataframe thead th {\n",
       "        text-align: right;\n",
       "    }\n",
       "</style>\n",
       "<table border=\"1\" class=\"dataframe\">\n",
       "  <thead>\n",
       "    <tr style=\"text-align: right;\">\n",
       "      <th></th>\n",
       "      <th>이동평균사이즈</th>\n",
       "      <th>최소 온도</th>\n",
       "      <th>최대 온도</th>\n",
       "      <th>이동평균</th>\n",
       "    </tr>\n",
       "  </thead>\n",
       "  <tbody>\n",
       "    <tr>\n",
       "      <th>0</th>\n",
       "      <td>3.0</td>\n",
       "      <td>19.0</td>\n",
       "      <td>21.0</td>\n",
       "      <td>52.316467</td>\n",
       "    </tr>\n",
       "    <tr>\n",
       "      <th>1</th>\n",
       "      <td>4.0</td>\n",
       "      <td>19.0</td>\n",
       "      <td>22.0</td>\n",
       "      <td>52.303750</td>\n",
       "    </tr>\n",
       "    <tr>\n",
       "      <th>2</th>\n",
       "      <td>5.0</td>\n",
       "      <td>18.0</td>\n",
       "      <td>22.0</td>\n",
       "      <td>52.285720</td>\n",
       "    </tr>\n",
       "    <tr>\n",
       "      <th>3</th>\n",
       "      <td>6.0</td>\n",
       "      <td>17.0</td>\n",
       "      <td>22.0</td>\n",
       "      <td>52.279767</td>\n",
       "    </tr>\n",
       "    <tr>\n",
       "      <th>4</th>\n",
       "      <td>7.0</td>\n",
       "      <td>16.0</td>\n",
       "      <td>22.0</td>\n",
       "      <td>52.272486</td>\n",
       "    </tr>\n",
       "  </tbody>\n",
       "</table>\n",
       "</div>"
      ],
      "text/plain": [
       "   이동평균사이즈  최소 온도  최대 온도       이동평균\n",
       "0      3.0   19.0   21.0  52.316467\n",
       "1      4.0   19.0   22.0  52.303750\n",
       "2      5.0   18.0   22.0  52.285720\n",
       "3      6.0   17.0   22.0  52.279767\n",
       "4      7.0   16.0   22.0  52.272486"
      ]
     },
     "execution_count": 29,
     "metadata": {},
     "output_type": "execute_result"
    }
   ],
   "source": [
    "temp_move_mean = pd.DataFrame(columns=[\"온도\", \"예측 설문 점수\"])\n",
    "\n",
    "for temp in range(10, 30):\n",
    "    static_hum = 0\n",
    "    static_lux = 0\n",
    "    \n",
    "    np_features = np.array([[temp / max_temp,\n",
    "                           static_hum / max_hum,\n",
    "                           static_lux / max_lux]])\n",
    "    temp_move_mean = temp_move_mean.append({\n",
    "        \"온도\": temp,\n",
    "        \"예측 설문 점수\": RFModel.predict(np_features)[0]\n",
    "    }, ignore_index=True)\n",
    "    \n",
    "temp_move_mean_chk = pd.DataFrame(columns=['이동평균사이즈','최소 온도', '최대 온도', '이동평균'])\n",
    "    \n",
    "for w_size in range(3, round(len(temp_move_mean))):\n",
    "    move_mean = temp_move_mean['예측 설문 점수'].rolling(window=w_size).mean()\n",
    "    max_idx = move_mean.argmax()\n",
    "    min_idx = max_idx - (w_size - 1)\n",
    "    \n",
    "    move_min_temp = temp_move_mean.iloc[min_idx]['온도']\n",
    "    move_max_temp = temp_move_mean.iloc[max_idx]['온도']\n",
    "    \n",
    "    temp_move_mean_chk = temp_move_mean_chk.append({\n",
    "        \"이동평균사이즈\": w_size,\n",
    "        \"최소 온도\": move_min_temp,\n",
    "        \"최대 온도\": move_max_temp,\n",
    "        \"이동평균\": move_mean[max_idx]\n",
    "    }, ignore_index=True)\n",
    "\n",
    "s_tmmc = temp_move_mean_chk.sort_values(by=['이동평균'], ascending=False).copy()\n",
    "temp_move_mean_chk.head()"
   ]
  },
  {
   "cell_type": "markdown",
   "id": "47c4872a",
   "metadata": {},
   "source": [
    "### 6-2-2. 습도"
   ]
  },
  {
   "cell_type": "code",
   "execution_count": 30,
   "id": "18f79576",
   "metadata": {
    "scrolled": true
   },
   "outputs": [
    {
     "data": {
      "text/html": [
       "<div>\n",
       "<style scoped>\n",
       "    .dataframe tbody tr th:only-of-type {\n",
       "        vertical-align: middle;\n",
       "    }\n",
       "\n",
       "    .dataframe tbody tr th {\n",
       "        vertical-align: top;\n",
       "    }\n",
       "\n",
       "    .dataframe thead th {\n",
       "        text-align: right;\n",
       "    }\n",
       "</style>\n",
       "<table border=\"1\" class=\"dataframe\">\n",
       "  <thead>\n",
       "    <tr style=\"text-align: right;\">\n",
       "      <th></th>\n",
       "      <th>이동평균사이즈</th>\n",
       "      <th>최소 습도</th>\n",
       "      <th>최대 습도</th>\n",
       "      <th>이동평균</th>\n",
       "    </tr>\n",
       "  </thead>\n",
       "  <tbody>\n",
       "    <tr>\n",
       "      <th>0</th>\n",
       "      <td>3.0</td>\n",
       "      <td>41.0</td>\n",
       "      <td>43.0</td>\n",
       "      <td>51.701244</td>\n",
       "    </tr>\n",
       "    <tr>\n",
       "      <th>1</th>\n",
       "      <td>4.0</td>\n",
       "      <td>41.0</td>\n",
       "      <td>44.0</td>\n",
       "      <td>51.691217</td>\n",
       "    </tr>\n",
       "    <tr>\n",
       "      <th>2</th>\n",
       "      <td>5.0</td>\n",
       "      <td>41.0</td>\n",
       "      <td>45.0</td>\n",
       "      <td>51.683973</td>\n",
       "    </tr>\n",
       "    <tr>\n",
       "      <th>3</th>\n",
       "      <td>6.0</td>\n",
       "      <td>41.0</td>\n",
       "      <td>46.0</td>\n",
       "      <td>51.677244</td>\n",
       "    </tr>\n",
       "    <tr>\n",
       "      <th>4</th>\n",
       "      <td>7.0</td>\n",
       "      <td>41.0</td>\n",
       "      <td>47.0</td>\n",
       "      <td>51.663010</td>\n",
       "    </tr>\n",
       "  </tbody>\n",
       "</table>\n",
       "</div>"
      ],
      "text/plain": [
       "   이동평균사이즈  최소 습도  최대 습도       이동평균\n",
       "0      3.0   41.0   43.0  51.701244\n",
       "1      4.0   41.0   44.0  51.691217\n",
       "2      5.0   41.0   45.0  51.683973\n",
       "3      6.0   41.0   46.0  51.677244\n",
       "4      7.0   41.0   47.0  51.663010"
      ]
     },
     "execution_count": 30,
     "metadata": {},
     "output_type": "execute_result"
    }
   ],
   "source": [
    "hum_move_mean = pd.DataFrame(columns=[\"습도\", \"예측 설문 점수\"])\n",
    "\n",
    "for hum in range(30, 81):\n",
    "    static_temp = 0\n",
    "    static_lux = 0\n",
    "    \n",
    "    np_features = np.array([[static_temp / max_temp,\n",
    "                           hum / max_hum,\n",
    "                           static_lux / max_lux]])\n",
    "    hum_move_mean = hum_move_mean.append({\n",
    "        \"습도\": hum,\n",
    "        \"예측 설문 점수\": RFModel.predict(np_features)[0]\n",
    "    }, ignore_index=True)\n",
    "    \n",
    "hum_move_mean_chk = pd.DataFrame(columns=['이동평균사이즈','최소 습도', '최대 습도', '이동평균'])\n",
    "\n",
    "for w_size in range(3, round(len(hum_move_mean))):\n",
    "    move_mean = hum_move_mean['예측 설문 점수'].rolling(window=w_size).mean()\n",
    "    max_idx = move_mean.argmax()\n",
    "    min_idx = max_idx - (w_size - 1)\n",
    "    \n",
    "    move_min_hum = hum_move_mean.iloc[min_idx]['습도']\n",
    "    move_max_hum = hum_move_mean.iloc[max_idx]['습도']\n",
    "    \n",
    "    hum_move_mean_chk = hum_move_mean_chk.append({\n",
    "        \"이동평균사이즈\": w_size,\n",
    "        \"최소 습도\": move_min_hum,\n",
    "        \"최대 습도\": move_max_hum,\n",
    "        \"이동평균\": move_mean[max_idx]\n",
    "    }, ignore_index=True)\n",
    "    \n",
    "s_hmmc = hum_move_mean_chk.sort_values(by=['이동평균'], ascending=False).copy()    \n",
    "hum_move_mean_chk.head()"
   ]
  },
  {
   "cell_type": "markdown",
   "id": "8d18173d",
   "metadata": {},
   "source": [
    "### 6-2-3. 조도"
   ]
  },
  {
   "cell_type": "code",
   "execution_count": 31,
   "id": "5a69e1f6",
   "metadata": {
    "scrolled": true
   },
   "outputs": [
    {
     "data": {
      "text/html": [
       "<div>\n",
       "<style scoped>\n",
       "    .dataframe tbody tr th:only-of-type {\n",
       "        vertical-align: middle;\n",
       "    }\n",
       "\n",
       "    .dataframe tbody tr th {\n",
       "        vertical-align: top;\n",
       "    }\n",
       "\n",
       "    .dataframe thead th {\n",
       "        text-align: right;\n",
       "    }\n",
       "</style>\n",
       "<table border=\"1\" class=\"dataframe\">\n",
       "  <thead>\n",
       "    <tr style=\"text-align: right;\">\n",
       "      <th></th>\n",
       "      <th>이동평균사이즈</th>\n",
       "      <th>최소 조도</th>\n",
       "      <th>최대 조도</th>\n",
       "      <th>이동평균</th>\n",
       "    </tr>\n",
       "  </thead>\n",
       "  <tbody>\n",
       "    <tr>\n",
       "      <th>0</th>\n",
       "      <td>3.0</td>\n",
       "      <td>1200.0</td>\n",
       "      <td>1400.0</td>\n",
       "      <td>52.923333</td>\n",
       "    </tr>\n",
       "    <tr>\n",
       "      <th>1</th>\n",
       "      <td>4.0</td>\n",
       "      <td>1200.0</td>\n",
       "      <td>1500.0</td>\n",
       "      <td>52.904400</td>\n",
       "    </tr>\n",
       "    <tr>\n",
       "      <th>2</th>\n",
       "      <td>5.0</td>\n",
       "      <td>1000.0</td>\n",
       "      <td>1400.0</td>\n",
       "      <td>52.897680</td>\n",
       "    </tr>\n",
       "    <tr>\n",
       "      <th>3</th>\n",
       "      <td>6.0</td>\n",
       "      <td>900.0</td>\n",
       "      <td>1400.0</td>\n",
       "      <td>52.894500</td>\n",
       "    </tr>\n",
       "    <tr>\n",
       "      <th>4</th>\n",
       "      <td>7.0</td>\n",
       "      <td>800.0</td>\n",
       "      <td>1400.0</td>\n",
       "      <td>52.896229</td>\n",
       "    </tr>\n",
       "  </tbody>\n",
       "</table>\n",
       "</div>"
      ],
      "text/plain": [
       "   이동평균사이즈   최소 조도   최대 조도       이동평균\n",
       "0      3.0  1200.0  1400.0  52.923333\n",
       "1      4.0  1200.0  1500.0  52.904400\n",
       "2      5.0  1000.0  1400.0  52.897680\n",
       "3      6.0   900.0  1400.0  52.894500\n",
       "4      7.0   800.0  1400.0  52.896229"
      ]
     },
     "execution_count": 31,
     "metadata": {},
     "output_type": "execute_result"
    }
   ],
   "source": [
    "lux_move_mean = pd.DataFrame(columns=[\"조도\", \"예측 설문 점수\"])\n",
    "\n",
    "for lux in range(200, 2000, 100):\n",
    "    static_temp = 0\n",
    "    static_hum = 0\n",
    "    \n",
    "    np_features = np.array([[static_temp / max_temp,\n",
    "                           static_hum / max_hum,\n",
    "                           lux / max_lux]])\n",
    "    lux_move_mean = lux_move_mean.append({\n",
    "        \"조도\": lux,\n",
    "        \"예측 설문 점수\": RFModel.predict(np_features)[0]\n",
    "    }, ignore_index=True)\n",
    "    \n",
    "lux_move_mean_chk = pd.DataFrame(columns=['이동평균사이즈','최소 조도', '최대 조도', '이동평균'])\n",
    "\n",
    "for w_size in range(3, round(len(lux_move_mean))):\n",
    "    move_mean = lux_move_mean['예측 설문 점수'].rolling(window=w_size).mean()\n",
    "    max_idx = move_mean.argmax()\n",
    "    min_idx = max_idx - (w_size - 1)\n",
    "    \n",
    "    move_min_lux = lux_move_mean.iloc[min_idx]['조도']\n",
    "    move_max_lux = lux_move_mean.iloc[max_idx]['조도']\n",
    "    \n",
    "    lux_move_mean_chk = lux_move_mean_chk.append({\n",
    "        \"이동평균사이즈\": w_size,\n",
    "        \"최소 조도\": move_min_lux,\n",
    "        \"최대 조도\": move_max_lux,\n",
    "        \"이동평균\": move_mean[max_idx]\n",
    "    }, ignore_index=True)\n",
    "    \n",
    "s_lmmc = lux_move_mean_chk.sort_values(by=['이동평균'], ascending=False).copy()\n",
    "lux_move_mean_chk.head()"
   ]
  },
  {
   "cell_type": "code",
   "execution_count": 32,
   "id": "c4ef96d6",
   "metadata": {},
   "outputs": [
    {
     "name": "stdout",
     "output_type": "stream",
     "text": [
      "사용자들이 가장 선호하는 특징별 구간은 아래와 같습니다.\n",
      "온도 : 19.0 ~ 21.0\n",
      "습도 : 41.0 ~ 43.0\n",
      "조도 : 1200.0 ~ 1400.0\n"
     ]
    }
   ],
   "source": [
    "prefer_features = [\n",
    "    [\n",
    "        s_tmmc.iloc[0]['최소 온도'], s_tmmc.iloc[0]['최대 온도']\n",
    "    ],\n",
    "    [\n",
    "        s_hmmc.iloc[0]['최소 습도'], s_hmmc.iloc[0]['최대 습도']\n",
    "    ],\n",
    "    [\n",
    "        s_lmmc.iloc[0]['최소 조도'], s_lmmc.iloc[0]['최대 조도']\n",
    "    ]\n",
    "]\n",
    "\n",
    "print(\"사용자들이 가장 선호하는 특징별 구간은 아래와 같습니다.\")\n",
    "print(\"온도 : {} ~ {}\".format(prefer_features[0][0],prefer_features[0][1]))\n",
    "print(\"습도 : {} ~ {}\".format(prefer_features[1][0],prefer_features[1][1]))\n",
    "print(\"조도 : {} ~ {}\".format(prefer_features[2][0],prefer_features[2][1]))"
   ]
  },
  {
   "cell_type": "markdown",
   "id": "1f87c6af",
   "metadata": {},
   "source": [
    "#### 실제로 참여도가 높은 참여자 객체를 만들 때, 온도는 18 ~ 20 구간, 습도는 40 ~ 60 구간, 조도는 700 ~ 1500 구간에서 점수를 높게 주도록 설정해놨으며, 설문조사 대상의 RandomForest 모델의 예측 결과들의 이동평균을 구해, 이동평균이 가장 높았던 구간을 뽑아내면 해당 구간 안에 있는 특징 별 선호 구간을 찾아낼 수 있었다.\n",
    "---"
   ]
  },
  {
   "cell_type": "code",
   "execution_count": 33,
   "id": "62876930",
   "metadata": {},
   "outputs": [],
   "source": [
    "temp_range = range(\n",
    "    int(prefer_features[0][0]), int(prefer_features[0][1] + 1)\n",
    ")\n",
    "hum_range = range(\n",
    "    int(prefer_features[1][0]), int(prefer_features[1][1] + 1)\n",
    ")\n",
    "lux_range = range(\n",
    "    int(prefer_features[2][0]), int(prefer_features[2][1] + 1), 50\n",
    ")\n",
    "\n",
    "combinations = np.array([])\n",
    "for _temp in temp_range:\n",
    "    for _hum in hum_range:\n",
    "        for _lux in lux_range:\n",
    "            combinations = np.append(\n",
    "                combinations,\n",
    "                [_temp, _hum, _lux]\n",
    "            )"
   ]
  },
  {
   "cell_type": "code",
   "execution_count": 34,
   "id": "13578f15",
   "metadata": {},
   "outputs": [],
   "source": [
    "last_test = pd.DataFrame(columns=['온도', '습도', '조도', '실제 설문조사 평균값','예측값'])\n",
    "\n",
    "for _temp, _hum, _lux in combinations.reshape(-1, 3):\n",
    "    np_features = np.array([[\n",
    "        _temp / max_temp,\n",
    "        _hum / max_hum,\n",
    "        _lux / max_lux\n",
    "    ]])\n",
    "    pre = RFModel.predict(np_features)[0]\n",
    "    \n",
    "    user_scores = np.array([])\n",
    "    for user_idx in range(0,50):\n",
    "        _s = users[user_idx].score(ran_temp,\n",
    "                       ran_hum,\n",
    "                       ran_lux)\n",
    "        user_scores = np.append(user_scores,\n",
    "                               _s)\n",
    "    \n",
    "    last_test = last_test.append({\n",
    "        \"온도\": _temp,\n",
    "        \"습도\": _hum,\n",
    "        \"조도\": _lux,\n",
    "        \"실제 설문조사 평균값\": user_scores.mean(),\n",
    "        \"예측값\": pre\n",
    "    }, ignore_index=True)\n",
    "    \n",
    "last_test['오차']  = abs(last_test['실제 설문조사 평균값'] - last_test['예측값'])"
   ]
  },
  {
   "cell_type": "code",
   "execution_count": 35,
   "id": "6e2eebf1",
   "metadata": {
    "scrolled": true
   },
   "outputs": [
    {
     "data": {
      "text/html": [
       "<div>\n",
       "<style scoped>\n",
       "    .dataframe tbody tr th:only-of-type {\n",
       "        vertical-align: middle;\n",
       "    }\n",
       "\n",
       "    .dataframe tbody tr th {\n",
       "        vertical-align: top;\n",
       "    }\n",
       "\n",
       "    .dataframe thead th {\n",
       "        text-align: right;\n",
       "    }\n",
       "</style>\n",
       "<table border=\"1\" class=\"dataframe\">\n",
       "  <thead>\n",
       "    <tr style=\"text-align: right;\">\n",
       "      <th></th>\n",
       "      <th>온도</th>\n",
       "      <th>습도</th>\n",
       "      <th>조도</th>\n",
       "      <th>실제 설문조사 평균값</th>\n",
       "      <th>예측값</th>\n",
       "      <th>오차</th>\n",
       "    </tr>\n",
       "  </thead>\n",
       "  <tbody>\n",
       "    <tr>\n",
       "      <th>14</th>\n",
       "      <td>19.0</td>\n",
       "      <td>43.0</td>\n",
       "      <td>1400.0</td>\n",
       "      <td>54.14</td>\n",
       "      <td>56.1138</td>\n",
       "      <td>1.9738</td>\n",
       "    </tr>\n",
       "    <tr>\n",
       "      <th>9</th>\n",
       "      <td>19.0</td>\n",
       "      <td>42.0</td>\n",
       "      <td>1400.0</td>\n",
       "      <td>53.74</td>\n",
       "      <td>56.1120</td>\n",
       "      <td>2.3720</td>\n",
       "    </tr>\n",
       "    <tr>\n",
       "      <th>4</th>\n",
       "      <td>19.0</td>\n",
       "      <td>41.0</td>\n",
       "      <td>1400.0</td>\n",
       "      <td>53.64</td>\n",
       "      <td>56.1044</td>\n",
       "      <td>2.4644</td>\n",
       "    </tr>\n",
       "    <tr>\n",
       "      <th>8</th>\n",
       "      <td>19.0</td>\n",
       "      <td>42.0</td>\n",
       "      <td>1350.0</td>\n",
       "      <td>53.56</td>\n",
       "      <td>56.0878</td>\n",
       "      <td>2.5278</td>\n",
       "    </tr>\n",
       "    <tr>\n",
       "      <th>13</th>\n",
       "      <td>19.0</td>\n",
       "      <td>43.0</td>\n",
       "      <td>1350.0</td>\n",
       "      <td>53.84</td>\n",
       "      <td>56.0862</td>\n",
       "      <td>2.2462</td>\n",
       "    </tr>\n",
       "  </tbody>\n",
       "</table>\n",
       "</div>"
      ],
      "text/plain": [
       "      온도    습도      조도  실제 설문조사 평균값      예측값      오차\n",
       "14  19.0  43.0  1400.0        54.14  56.1138  1.9738\n",
       "9   19.0  42.0  1400.0        53.74  56.1120  2.3720\n",
       "4   19.0  41.0  1400.0        53.64  56.1044  2.4644\n",
       "8   19.0  42.0  1350.0        53.56  56.0878  2.5278\n",
       "13  19.0  43.0  1350.0        53.84  56.0862  2.2462"
      ]
     },
     "execution_count": 35,
     "metadata": {},
     "output_type": "execute_result"
    }
   ],
   "source": [
    "last_test.sort_values(by=['예측값'], ascending=[False]).head()"
   ]
  }
 ],
 "metadata": {
  "kernelspec": {
   "display_name": "Python 3 (ipykernel)",
   "language": "python",
   "name": "python3"
  },
  "language_info": {
   "codemirror_mode": {
    "name": "ipython",
    "version": 3
   },
   "file_extension": ".py",
   "mimetype": "text/x-python",
   "name": "python",
   "nbconvert_exporter": "python",
   "pygments_lexer": "ipython3",
   "version": "3.8.12"
  }
 },
 "nbformat": 4,
 "nbformat_minor": 5
}

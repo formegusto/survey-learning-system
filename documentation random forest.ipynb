{
 "cells": [
  {
   "cell_type": "code",
   "execution_count": 1,
   "id": "24dd0161",
   "metadata": {},
   "outputs": [],
   "source": [
    "import numpy as np\n",
    "import pandas as pd\n",
    "import random as ran\n",
    "import datetime as dt\n",
    "from sklearn.model_selection import train_test_split\n",
    "from sklearn.metrics import mean_squared_error\n",
    "from sklearn.ensemble import RandomForestRegressor\n",
    "import matplotlib.pyplot as plt"
   ]
  },
  {
   "cell_type": "code",
   "execution_count": 201,
   "id": "897c2cbb",
   "metadata": {},
   "outputs": [],
   "source": [
    "class User:\n",
    "    def __init__(self, user_id,importance_features, not_sincerity=False):\n",
    "        self.user_id = user_id\n",
    "        self.importance_features = importance_features\n",
    "        self.survey = pd.DataFrame(columns=['no','temp','hum', 'lux', 'score'])\n",
    "        self.not_sincerity = not_sincerity\n",
    "        \n",
    "    def save_survey(self, no,temp, hum, lux ,score):\n",
    "        self.survey = self.survey.append({\n",
    "            \"no\": no,\n",
    "            \"temp\": temp,\n",
    "            \"hum\": hum,\n",
    "            \"lux\": lux,\n",
    "            \"score\": score\n",
    "        }, ignore_index=True)\n",
    "    \n",
    "    def score(self, temp, hum, lux):\n",
    "        _score = np.array([0,0,0])\n",
    "        \n",
    "        if len(self.importance_features) == 0:\n",
    "            if self.not_sincerity:\n",
    "                for idx in range(0, len(_score)):\n",
    "                    _score[idx] = 20\n",
    "            else:\n",
    "                one_line = ran.randrange(0, 2)\n",
    "                if one_line == 0:\n",
    "                    s = ran.randrange(5, 20, 5)\n",
    "                    for idx in range(0, len(_score)):\n",
    "                        _score[idx] = s\n",
    "                else:\n",
    "                    for idx in range(0, len(_score)):\n",
    "                        _score[idx] = ran.randrange(5, 20)\n",
    "        else:\n",
    "            if 'temp' in self.importance_features:\n",
    "                if (temp >= 18) & (temp <= 20):\n",
    "                    _score[0] = 20\n",
    "                else:\n",
    "                    err = 0\n",
    "                    if temp <= 18:\n",
    "                        err = 18 - temp\n",
    "                    else:\n",
    "                        err = temp - 20\n",
    "                    _score[0] = 20 - round(err / 2)\n",
    "            else:\n",
    "                _score[0] = ran.randrange(15, 20)\n",
    "            \n",
    "            if 'hum' in self.importance_features:\n",
    "                if (hum >= 40) & (hum <= 60):\n",
    "                    _score[1] = 20\n",
    "                else:\n",
    "                    err = 0\n",
    "                    if hum <= 40:\n",
    "                        err = 40 - hum\n",
    "                    else:\n",
    "                        err = hum - 60\n",
    "                    _score[1] = 20 - round(err / 5)\n",
    "            else:\n",
    "                _score[1] = ran.randrange(15, 20)\n",
    "\n",
    "\n",
    "            if 'lux' in self.importance_features:\n",
    "                if (lux >= 700) & (lux <= 1500):\n",
    "                    _score[2] = 20\n",
    "                else:\n",
    "                    err = 0\n",
    "                    if lux < 700:\n",
    "                        err = 700 - lux\n",
    "                    else:\n",
    "                        err = lux - 1500\n",
    "                    _score[2] = 20 - round(err / 100)\n",
    "            else:\n",
    "                _score[2] = ran.randrange(15, 20)\n",
    "\n",
    "        return _score.sum()\n",
    "    \n",
    "def generate_features():\n",
    "    features = ['temp', 'hum', 'lux']\n",
    "    imp_features = list()\n",
    "    for f in features:\n",
    "        is_in = ran.randrange(0,2)\n",
    "        if is_in == 0:\n",
    "            imp_features.append(f)\n",
    "    \n",
    "    if len(imp_features) == 0:\n",
    "        is_in = ran.randrange(0, 3)\n",
    "        imp_features.append(features[is_in])\n",
    "        \n",
    "    return imp_features            "
   ]
  },
  {
   "cell_type": "code",
   "execution_count": 222,
   "id": "48c5a097",
   "metadata": {},
   "outputs": [],
   "source": [
    "# 성실 참여자 50명 생성\n",
    "users = list()\n",
    "for user_id in range(0, 50):\n",
    "    user = User(user_id, generate_features())\n",
    "    users.append(user)\n",
    "    \n",
    "# 불성실 참여자 30명 생성\n",
    "for user_id in range(50, 80):\n",
    "    user = User(user_id, [])\n",
    "    users.append(user)\n",
    "    \n",
    "# 매우불성실 참여자 20명 생성\n",
    "for user_id in range(80, 100):\n",
    "    user = User(user_id, [], True)\n",
    "    users.append(user)\n",
    "    \n",
    "now = dt.datetime.now()\n",
    "\n",
    "for days in range(0, 540):\n",
    "    now_after = now + dt.timedelta(days=days)\n",
    "    str_after = dt.datetime.strftime(now_after, '%Y-%m-%d')\n",
    "    \n",
    "    # 온도 10~32\n",
    "    ran_temp = ran.randrange(10, 33)\n",
    "    \n",
    "    # 습도 30 ~ 80\n",
    "    ran_hum = ran.randrange(30, 81)\n",
    "    \n",
    "    # 조도 200 ~ 1900 (100 단위)\n",
    "    ran_lux = ran.randrange(200, 1901, 100)\n",
    "    \n",
    "    for user in users:\n",
    "        _s = user.score(ran_temp,\n",
    "                       ran_hum,\n",
    "                       ran_lux)\n",
    "        user.save_survey(\n",
    "            days,\n",
    "            ran_temp,\n",
    "            ran_hum,\n",
    "            ran_lux,\n",
    "            _s\n",
    "        )"
   ]
  },
  {
   "cell_type": "code",
   "execution_count": 223,
   "id": "b15a7516",
   "metadata": {},
   "outputs": [],
   "source": [
    "max_temp = users[0].survey['temp'].max()\n",
    "max_hum = users[0].survey['hum'].max()\n",
    "max_lux = users[0].survey['lux'].max()\n",
    "\n",
    "# 정규화\n",
    "norm_no = users[0].survey['no'] / users[0].survey['no'].max()\n",
    "norm_temp = users[0].survey['temp'] / max_temp\n",
    "norm_hum = users[0].survey['hum'] / max_hum\n",
    "norm_lux = users[0].survey['lux'] / max_lux\n",
    "\n",
    "for idx in range(0, 100):\n",
    "        users[idx].survey['no'] = norm_no\n",
    "        users[idx].survey['temp'] = norm_temp\n",
    "        users[idx].survey['hum'] = norm_hum\n",
    "        users[idx].survey['lux'] = norm_lux"
   ]
  },
  {
   "cell_type": "code",
   "execution_count": 224,
   "id": "2249d069",
   "metadata": {},
   "outputs": [],
   "source": [
    "# features = np.array(['no', 'temp', 'hum', 'lux'])\n",
    "features = np.array(['temp', 'hum', 'lux'])\n",
    "_record = pd.DataFrame(columns=['user id',\n",
    "                                'imp features', \n",
    "                                'RF imp features', \n",
    "                                'mse'])\n",
    "models = np.array([])\n",
    "\n",
    "for user in users:\n",
    "    df = user.survey\n",
    "    X = df[features].to_numpy().copy()\n",
    "    y = df[['score']].to_numpy().copy()\n",
    "    RF_imp_features = None\n",
    "    \n",
    "    X_train, X_test, y_train, y_test = train_test_split(X,y, test_size=0.2)\n",
    "\n",
    "    RFModel = RandomForestRegressor(n_estimators=100,\n",
    "                                    max_features=3,\n",
    "                                oob_score=False,random_state=531)\n",
    "    RFModel.fit(X_train, y_train.ravel())\n",
    "    models = np.append(models, RFModel)\n",
    "    prediction = RFModel.predict(X_test)\n",
    "    \n",
    "    mse = mean_squared_error(y_test,prediction)\n",
    "    \n",
    "    feature_importance = RFModel.feature_importances_\n",
    "    if len(set(feature_importance)) == 1:\n",
    "        RF_imp_features = []\n",
    "    else:\n",
    "        feature_importance = feature_importance / feature_importance.max()\n",
    "    \n",
    "    sorted_idx = np.argsort(feature_importance)\n",
    "    bar_pos = np.arange(sorted_idx.shape[0]) + .5\n",
    "    \n",
    "    _features = features[sorted_idx][::-1]\n",
    "    user_id = user.user_id\n",
    "    user_imp_features = user.importance_features\n",
    "    \n",
    "    imp_length = len(user_imp_features)\n",
    "    \n",
    "    if RF_imp_features == None:\n",
    "        if imp_length == 0:\n",
    "            RF_imp_features = [_features[0]]\n",
    "        else:\n",
    "            RF_imp_features = _features[:imp_length]\n",
    "        \n",
    "    _imp_features = RF_imp_features\n",
    "    imp_features = list()\n",
    "    \n",
    "    for _ in ['no', 'temp', 'hum', 'lux']:\n",
    "        if _ in _imp_features:\n",
    "            imp_features.append(_)\n",
    "\n",
    "    _record = _record.append({\n",
    "        \"user id\": user_id,\n",
    "        \"mse\": mse,\n",
    "        \"imp features\": \",\".join(user_imp_features),\n",
    "        \"RF imp features\": \",\".join(imp_features)\n",
    "    }, ignore_index=True)"
   ]
  },
  {
   "cell_type": "code",
   "execution_count": 225,
   "id": "82b6202f",
   "metadata": {},
   "outputs": [
    {
     "data": {
      "text/html": [
       "<div>\n",
       "<style scoped>\n",
       "    .dataframe tbody tr th:only-of-type {\n",
       "        vertical-align: middle;\n",
       "    }\n",
       "\n",
       "    .dataframe tbody tr th {\n",
       "        vertical-align: top;\n",
       "    }\n",
       "\n",
       "    .dataframe thead th {\n",
       "        text-align: right;\n",
       "    }\n",
       "</style>\n",
       "<table border=\"1\" class=\"dataframe\">\n",
       "  <thead>\n",
       "    <tr style=\"text-align: right;\">\n",
       "      <th></th>\n",
       "      <th>총 참여자 수</th>\n",
       "      <th>중요 특징 비교</th>\n",
       "      <th>평균 mse</th>\n",
       "    </tr>\n",
       "  </thead>\n",
       "  <tbody>\n",
       "    <tr>\n",
       "      <th>0</th>\n",
       "      <td>50</td>\n",
       "      <td>50</td>\n",
       "      <td>3.38118</td>\n",
       "    </tr>\n",
       "  </tbody>\n",
       "</table>\n",
       "</div>"
      ],
      "text/plain": [
       "  총 참여자 수 중요 특징 비교   평균 mse\n",
       "0      50       50  3.38118"
      ]
     },
     "execution_count": 225,
     "metadata": {},
     "output_type": "execute_result"
    }
   ],
   "source": [
    "part_user = _record[:50].copy()\n",
    "\n",
    "_analysis = pd.DataFrame(columns=['총 참여자 수','중요 특징 비교', '평균 mse'])\n",
    "\n",
    "user_cnt = len(part_user)\n",
    "compare_cnt = part_user[part_user['imp features'] == part_user['RF imp features']].count()['imp features']\n",
    "mean_mse = part_user[part_user['imp features'] == part_user['RF imp features']]['mse'].mean()\n",
    "\n",
    "_analysis = _analysis.append({\n",
    "    \"총 참여자 수\": str(user_cnt),\n",
    "    \"중요 특징 비교\": str(compare_cnt),\n",
    "    \"평균 mse\": mean_mse\n",
    "}, ignore_index=True)\n",
    "\n",
    "_analysis"
   ]
  },
  {
   "cell_type": "code",
   "execution_count": 226,
   "id": "313aca40",
   "metadata": {},
   "outputs": [
    {
     "data": {
      "text/html": [
       "<div>\n",
       "<style scoped>\n",
       "    .dataframe tbody tr th:only-of-type {\n",
       "        vertical-align: middle;\n",
       "    }\n",
       "\n",
       "    .dataframe tbody tr th {\n",
       "        vertical-align: top;\n",
       "    }\n",
       "\n",
       "    .dataframe thead th {\n",
       "        text-align: right;\n",
       "    }\n",
       "</style>\n",
       "<table border=\"1\" class=\"dataframe\">\n",
       "  <thead>\n",
       "    <tr style=\"text-align: right;\">\n",
       "      <th></th>\n",
       "      <th>총 참여자 수</th>\n",
       "      <th>중요 특징 비교</th>\n",
       "      <th>평균 mse</th>\n",
       "    </tr>\n",
       "  </thead>\n",
       "  <tbody>\n",
       "    <tr>\n",
       "      <th>0</th>\n",
       "      <td>50</td>\n",
       "      <td>0</td>\n",
       "      <td>0.0</td>\n",
       "    </tr>\n",
       "  </tbody>\n",
       "</table>\n",
       "</div>"
      ],
      "text/plain": [
       "  총 참여자 수 중요 특징 비교  평균 mse\n",
       "0      50        0     0.0"
      ]
     },
     "execution_count": 226,
     "metadata": {},
     "output_type": "execute_result"
    }
   ],
   "source": [
    "unpart_user = _record[50:].copy()\n",
    "\n",
    "_analysis = pd.DataFrame(columns=['총 참여자 수','중요 특징 비교', '평균 mse'])\n",
    "\n",
    "user_cnt = len(unpart_user)\n",
    "compare_cnt = unpart_user[(unpart_user['imp features'] != \"\") & \\\n",
    "   (unpart_user['imp features'] == unpart_user['RF imp features'])].count()['imp features']\n",
    "mean_mse = unpart_user[unpart_user['imp features'] == unpart_user['RF imp features']]['mse'].mean()\n",
    "\n",
    "_analysis = _analysis.append({\n",
    "    \"총 참여자 수\": str(user_cnt),\n",
    "    \"중요 특징 비교\": str(compare_cnt),\n",
    "    \"평균 mse\": mean_mse\n",
    "}, ignore_index=True)\n",
    "\n",
    "_analysis"
   ]
  },
  {
   "cell_type": "code",
   "execution_count": 227,
   "id": "06e02fcc",
   "metadata": {},
   "outputs": [
    {
     "data": {
      "text/html": [
       "<div>\n",
       "<style scoped>\n",
       "    .dataframe tbody tr th:only-of-type {\n",
       "        vertical-align: middle;\n",
       "    }\n",
       "\n",
       "    .dataframe tbody tr th {\n",
       "        vertical-align: top;\n",
       "    }\n",
       "\n",
       "    .dataframe thead th {\n",
       "        text-align: right;\n",
       "    }\n",
       "</style>\n",
       "<table border=\"1\" class=\"dataframe\">\n",
       "  <thead>\n",
       "    <tr style=\"text-align: right;\">\n",
       "      <th></th>\n",
       "      <th>온도</th>\n",
       "      <th>습도</th>\n",
       "      <th>조도</th>\n",
       "    </tr>\n",
       "  </thead>\n",
       "  <tbody>\n",
       "    <tr>\n",
       "      <th>0</th>\n",
       "      <td>22</td>\n",
       "      <td>31</td>\n",
       "      <td>33</td>\n",
       "    </tr>\n",
       "  </tbody>\n",
       "</table>\n",
       "</div>"
      ],
      "text/plain": [
       "   온도  습도  조도\n",
       "0  22  31  33"
      ]
     },
     "execution_count": 227,
     "metadata": {},
     "output_type": "execute_result"
    }
   ],
   "source": [
    "anal_user = part_user.copy()\n",
    "\n",
    "anal_user['temp'] = part_user['imp features'].map(lambda x: \"temp\" in x)\n",
    "anal_user['hum'] = part_user['imp features'].map(lambda x: \"hum\" in x)\n",
    "anal_user['lux'] = part_user['imp features'].map(lambda x: \"lux\" in x)\n",
    "\n",
    "apt_anal = pd.DataFrame()\n",
    "apt_anal['온도'] = [anal_user[anal_user['temp'] == True].count().values[0]]\n",
    "apt_anal['습도'] = [anal_user[anal_user['hum'] == True].count().values[0]]\n",
    "apt_anal['조도'] = [anal_user[anal_user['lux'] == True].count().values[0]]\n",
    "\n",
    "apt_anal"
   ]
  },
  {
   "cell_type": "code",
   "execution_count": 228,
   "id": "32d06b5e",
   "metadata": {},
   "outputs": [],
   "source": [
    "survey_mean = np.array([])\n",
    "feature_tmp = np.array([])\n",
    "\n",
    "for _ in users[0].survey.values:\n",
    "    feature_tmp = np.append(feature_tmp,_[1:4])\n",
    "feature_tmp = feature_tmp.reshape(-1, 3)\n",
    "\n",
    "for survey_no in range(0,540):\n",
    "    _tmp = np.array([])\n",
    "    for user_no in range(0, 50):\n",
    "        _tmp = np.append(_tmp, users[user_no].survey.loc[survey_no]['score'])\n",
    "    survey_mean = np.append(survey_mean,_tmp.mean())"
   ]
  },
  {
   "cell_type": "code",
   "execution_count": 229,
   "id": "e5806953",
   "metadata": {},
   "outputs": [
    {
     "data": {
      "text/plain": [
       "array([[0.8125, 0.875, 0.7368421052631579],\n",
       "       [0.59375, 0.4375, 0.10526315789473684],\n",
       "       [0.78125, 0.4125, 0.3684210526315789],\n",
       "       ...,\n",
       "       [0.75, 0.575, 0.5263157894736842],\n",
       "       [1.0, 0.3875, 0.47368421052631576],\n",
       "       [0.3125, 0.65, 0.2631578947368421]], dtype=object)"
      ]
     },
     "execution_count": 229,
     "metadata": {},
     "output_type": "execute_result"
    }
   ],
   "source": [
    "feature_tmp"
   ]
  },
  {
   "cell_type": "code",
   "execution_count": 230,
   "id": "a0176995",
   "metadata": {},
   "outputs": [
    {
     "data": {
      "text/plain": [
       "array([53.8 , 52.08, 54.72, 51.36, 50.76, 53.14, 53.18, 51.84, 53.14,\n",
       "       54.66, 56.32, 53.4 , 52.78, 49.54, 52.04, 55.  , 54.2 , 54.48,\n",
       "       53.3 , 51.94, 53.34, 52.46, 55.4 , 52.86, 53.22, 50.58, 53.78,\n",
       "       54.04, 54.74, 53.94, 55.82, 50.42, 53.26, 52.76, 53.78, 54.7 ,\n",
       "       55.54, 52.58, 53.76, 54.36, 53.54, 52.16, 52.56, 50.78, 51.74,\n",
       "       51.84, 51.54, 49.38, 51.88, 51.46, 53.74, 53.74, 55.7 , 51.32,\n",
       "       55.7 , 53.28, 55.48, 49.72, 53.48, 56.28, 51.82, 55.42, 54.46,\n",
       "       55.5 , 51.5 , 55.38, 53.76, 53.38, 55.32, 53.5 , 54.8 , 54.86,\n",
       "       53.16, 53.88, 55.34, 50.54, 53.16, 52.88, 56.08, 52.  , 54.54,\n",
       "       55.58, 54.96, 53.68, 51.28, 53.1 , 52.66, 53.98, 54.06, 53.5 ,\n",
       "       52.54, 52.8 , 55.9 , 52.52, 55.8 , 54.46, 54.12, 55.14, 52.66,\n",
       "       55.1 , 50.7 , 56.16, 52.48, 54.64, 55.6 , 52.1 , 55.38, 53.32,\n",
       "       51.88, 50.24, 55.6 , 51.12, 51.12, 53.18, 51.02, 50.94, 52.64,\n",
       "       53.38, 55.76, 52.5 , 52.98, 55.06, 53.68, 55.12, 54.98, 53.2 ,\n",
       "       54.96, 53.44, 55.08, 54.94, 51.72, 54.34, 52.68, 53.26, 52.2 ,\n",
       "       53.  , 52.8 , 53.96, 53.5 , 49.36, 55.1 , 53.76, 55.18, 55.28,\n",
       "       56.18, 53.82, 55.46, 51.7 , 53.68, 51.8 , 51.86, 51.1 , 53.74,\n",
       "       54.3 , 53.12, 54.52, 55.22, 51.16, 54.14, 55.34, 53.78, 56.34,\n",
       "       54.28, 56.16, 54.54, 52.98, 53.6 , 54.54, 54.56, 52.  , 55.94,\n",
       "       55.24, 53.08, 53.58, 52.94, 54.66, 55.96, 53.68, 53.26, 52.86,\n",
       "       52.54, 52.64, 54.86, 55.34, 51.12, 50.88, 53.98, 49.86, 53.96,\n",
       "       54.32, 54.3 , 54.1 , 53.9 , 51.34, 52.94, 53.42, 55.7 , 53.14,\n",
       "       54.46, 52.06, 53.02, 51.8 , 55.04, 56.32, 53.36, 55.64, 52.78,\n",
       "       53.7 , 51.08, 52.6 , 53.94, 49.54, 53.66, 52.58, 53.44, 56.26,\n",
       "       53.06, 52.28, 55.32, 50.54, 54.  , 53.22, 52.68, 52.48, 53.44,\n",
       "       54.72, 54.9 , 54.54, 53.92, 52.88, 50.76, 54.2 , 54.44, 53.66,\n",
       "       54.36, 53.18, 51.98, 53.92, 54.64, 52.56, 52.  , 50.82, 51.38,\n",
       "       55.24, 52.5 , 53.02, 54.84, 53.22, 53.82, 53.04, 55.4 , 53.34,\n",
       "       53.4 , 52.82, 54.3 , 56.26, 56.22, 52.16, 51.9 , 56.14, 52.74,\n",
       "       54.32, 54.86, 53.  , 55.48, 51.5 , 52.14, 53.66, 52.04, 52.32,\n",
       "       54.6 , 52.44, 53.92, 53.82, 54.82, 49.02, 54.22, 55.92, 55.04,\n",
       "       52.16, 55.9 , 52.96, 55.4 , 53.06, 54.92, 52.48, 51.52, 54.86,\n",
       "       55.5 , 53.16, 55.92, 53.04, 55.08, 54.54, 54.26, 52.1 , 54.14,\n",
       "       54.68, 50.56, 53.9 , 54.5 , 52.92, 54.  , 53.18, 52.02, 54.82,\n",
       "       53.82, 54.08, 50.42, 50.94, 55.02, 51.1 , 51.52, 53.68, 56.02,\n",
       "       49.7 , 51.2 , 52.94, 52.14, 56.04, 52.18, 54.36, 55.4 , 54.58,\n",
       "       52.78, 54.28, 52.78, 53.42, 54.3 , 56.34, 53.34, 55.5 , 55.88,\n",
       "       53.42, 52.82, 54.18, 52.22, 54.22, 50.88, 51.1 , 52.94, 54.46,\n",
       "       51.2 , 52.84, 52.86, 54.14, 53.08, 52.12, 54.22, 53.94, 54.08,\n",
       "       54.98, 53.08, 52.14, 54.2 , 55.7 , 53.12, 55.62, 52.4 , 52.46,\n",
       "       56.04, 52.12, 52.86, 53.22, 55.2 , 51.4 , 52.96, 50.36, 52.46,\n",
       "       52.96, 52.26, 53.74, 55.84, 54.6 , 51.92, 54.08, 50.94, 54.58,\n",
       "       51.8 , 54.34, 52.56, 55.82, 51.94, 52.02, 54.86, 53.78, 53.98,\n",
       "       54.4 , 51.88, 53.38, 53.2 , 53.72, 50.18, 54.8 , 51.86, 50.  ,\n",
       "       51.72, 54.8 , 55.28, 53.22, 53.58, 50.16, 52.46, 54.98, 50.1 ,\n",
       "       53.64, 54.2 , 53.26, 55.18, 52.92, 55.22, 53.56, 53.62, 53.86,\n",
       "       56.04, 55.28, 50.76, 55.4 , 55.92, 53.6 , 51.68, 51.9 , 53.88,\n",
       "       55.38, 51.96, 55.22, 53.6 , 49.64, 53.96, 55.9 , 55.18, 50.48,\n",
       "       49.68, 55.34, 54.9 , 50.86, 52.48, 55.14, 51.8 , 55.74, 54.22,\n",
       "       54.38, 53.02, 52.64, 54.7 , 52.5 , 53.66, 54.42, 53.64, 50.12,\n",
       "       51.54, 52.94, 53.42, 53.4 , 54.3 , 54.4 , 54.28, 50.52, 51.74,\n",
       "       53.8 , 55.08, 55.6 , 53.92, 51.68, 53.8 , 50.7 , 49.36, 51.02,\n",
       "       51.8 , 54.16, 52.86, 52.68, 53.02, 52.5 , 54.18, 53.98, 52.92,\n",
       "       52.36, 54.06, 53.76, 55.86, 49.82, 49.66, 53.98, 56.02, 52.14,\n",
       "       50.36, 53.8 , 54.1 , 54.56, 54.24, 53.88, 51.9 , 54.44, 54.74,\n",
       "       51.08, 55.88, 53.46, 54.34, 53.32, 53.06, 53.78, 54.52, 54.4 ,\n",
       "       51.4 , 55.16, 55.34, 52.86, 52.82, 53.94, 54.68, 56.08, 52.4 ,\n",
       "       51.62, 53.48, 54.42, 49.12, 52.48, 53.08, 54.22, 54.54, 53.22,\n",
       "       52.12, 52.48, 53.44, 53.1 , 55.06, 55.34, 54.38, 51.02, 53.92,\n",
       "       53.64, 53.18, 52.9 , 53.74, 53.78, 53.78, 55.46, 52.34, 53.54])"
      ]
     },
     "execution_count": 230,
     "metadata": {},
     "output_type": "execute_result"
    }
   ],
   "source": [
    "survey_mean"
   ]
  },
  {
   "cell_type": "code",
   "execution_count": 231,
   "id": "c94af8a6",
   "metadata": {},
   "outputs": [],
   "source": [
    "anal_mean = pd.DataFrame(columns=[\"실제 설문점수\", \"예측 설문점수\"])\n",
    "anal_np = np.array([])\n",
    "\n",
    "for user_idx in range(0,50):\n",
    "    anal_np = np.append(anal_np,\n",
    "        models[user_idx].predict(feature_tmp))\n",
    "    \n",
    "for idx,pre in enumerate(anal_np.reshape(-1, 540).mean(axis=0)):\n",
    "    anal_mean.loc[idx] = [\n",
    "        survey_mean[idx],\n",
    "        pre\n",
    "    ]"
   ]
  },
  {
   "cell_type": "code",
   "execution_count": 232,
   "id": "45a1cb82",
   "metadata": {},
   "outputs": [
    {
     "data": {
      "text/html": [
       "<div>\n",
       "<style scoped>\n",
       "    .dataframe tbody tr th:only-of-type {\n",
       "        vertical-align: middle;\n",
       "    }\n",
       "\n",
       "    .dataframe tbody tr th {\n",
       "        vertical-align: top;\n",
       "    }\n",
       "\n",
       "    .dataframe thead th {\n",
       "        text-align: right;\n",
       "    }\n",
       "</style>\n",
       "<table border=\"1\" class=\"dataframe\">\n",
       "  <thead>\n",
       "    <tr style=\"text-align: right;\">\n",
       "      <th></th>\n",
       "      <th>실제 설문점수</th>\n",
       "      <th>예측 설문점수</th>\n",
       "    </tr>\n",
       "  </thead>\n",
       "  <tbody>\n",
       "    <tr>\n",
       "      <th>0</th>\n",
       "      <td>53.80</td>\n",
       "      <td>51.802667</td>\n",
       "    </tr>\n",
       "    <tr>\n",
       "      <th>1</th>\n",
       "      <td>52.08</td>\n",
       "      <td>55.240000</td>\n",
       "    </tr>\n",
       "    <tr>\n",
       "      <th>2</th>\n",
       "      <td>54.72</td>\n",
       "      <td>52.680000</td>\n",
       "    </tr>\n",
       "    <tr>\n",
       "      <th>3</th>\n",
       "      <td>51.36</td>\n",
       "      <td>49.860000</td>\n",
       "    </tr>\n",
       "    <tr>\n",
       "      <th>4</th>\n",
       "      <td>50.76</td>\n",
       "      <td>53.400000</td>\n",
       "    </tr>\n",
       "    <tr>\n",
       "      <th>...</th>\n",
       "      <td>...</td>\n",
       "      <td>...</td>\n",
       "    </tr>\n",
       "    <tr>\n",
       "      <th>535</th>\n",
       "      <td>53.78</td>\n",
       "      <td>54.120000</td>\n",
       "    </tr>\n",
       "    <tr>\n",
       "      <th>536</th>\n",
       "      <td>53.78</td>\n",
       "      <td>51.460000</td>\n",
       "    </tr>\n",
       "    <tr>\n",
       "      <th>537</th>\n",
       "      <td>55.46</td>\n",
       "      <td>52.200000</td>\n",
       "    </tr>\n",
       "    <tr>\n",
       "      <th>538</th>\n",
       "      <td>52.34</td>\n",
       "      <td>48.700000</td>\n",
       "    </tr>\n",
       "    <tr>\n",
       "      <th>539</th>\n",
       "      <td>53.54</td>\n",
       "      <td>50.400000</td>\n",
       "    </tr>\n",
       "  </tbody>\n",
       "</table>\n",
       "<p>540 rows × 2 columns</p>\n",
       "</div>"
      ],
      "text/plain": [
       "     실제 설문점수    예측 설문점수\n",
       "0      53.80  51.802667\n",
       "1      52.08  55.240000\n",
       "2      54.72  52.680000\n",
       "3      51.36  49.860000\n",
       "4      50.76  53.400000\n",
       "..       ...        ...\n",
       "535    53.78  54.120000\n",
       "536    53.78  51.460000\n",
       "537    55.46  52.200000\n",
       "538    52.34  48.700000\n",
       "539    53.54  50.400000\n",
       "\n",
       "[540 rows x 2 columns]"
      ]
     },
     "execution_count": 232,
     "metadata": {},
     "output_type": "execute_result"
    }
   ],
   "source": [
    "anal_mean"
   ]
  },
  {
   "cell_type": "code",
   "execution_count": 233,
   "id": "716b57f0",
   "metadata": {},
   "outputs": [
    {
     "data": {
      "text/plain": [
       "2.390899735449734"
      ]
     },
     "execution_count": 233,
     "metadata": {},
     "output_type": "execute_result"
    }
   ],
   "source": [
    "(anal_mean['실제 설문점수'] - anal_mean['예측 설문점수']).abs().mean()"
   ]
  },
  {
   "cell_type": "code",
   "execution_count": 234,
   "id": "9e75d9df",
   "metadata": {},
   "outputs": [
    {
     "name": "stdout",
     "output_type": "stream",
     "text": [
      "[0.21389421 0.27549858 0.51060721]\n",
      "[0.41890165 0.5395509  1.        ]\n",
      "[2 1 0]\n",
      "['temp' 'hum' 'lux']\n",
      "0.1845568074897109\n"
     ]
    },
    {
     "data": {
      "image/png": "[encoded data removed]",
      "text/plain": [
       "<Figure size 432x288 with 1 Axes>"
      ]
     },
     "metadata": {
      "needs_background": "light"
     },
     "output_type": "display_data"
    }
   ],
   "source": [
    "features = np.array(['temp', 'hum', 'lux'])\n",
    "\n",
    "X_train, X_test, y_train, y_test = train_test_split(feature_tmp,survey_mean,test_size=0.2)\n",
    "\n",
    "RFModel = RandomForestRegressor(n_estimators=100,\n",
    "                                max_features=3,\n",
    "                            oob_score=False,random_state=531)\n",
    "RFModel.fit(X_train, y_train.ravel())\n",
    "prediction = RFModel.predict(X_test)\n",
    "\n",
    "mse = mean_squared_error(y_test,prediction)\n",
    "\n",
    "feature_importance = RFModel.feature_importances_\n",
    "if len(set(feature_importance)) == 1:\n",
    "    feature_importance = RFModel.feature_importances_\n",
    "else:    \n",
    "    feature_importance = feature_importance / feature_importance.max()\n",
    "\n",
    "print(RFModel.feature_importances_)\n",
    "print(feature_importance)\n",
    "sorted_idx = np.argsort(feature_importance)\n",
    "print(sorted_idx[::-1])\n",
    "bar_pos = np.arange(sorted_idx.shape[0]) + .5\n",
    "\n",
    "_features = features[sorted_idx]\n",
    "\n",
    "print(_features)\n",
    "print(mse)\n",
    "plt.barh(bar_pos, feature_importance[sorted_idx], align='center')\n",
    "plt.yticks(bar_pos, _features)\n",
    "plt.xlabel(\"Variable Importance\")\n",
    "plt.show()"
   ]
  },
  {
   "cell_type": "code",
   "execution_count": 235,
   "id": "a473f3bc",
   "metadata": {},
   "outputs": [
    {
     "data": {
      "text/plain": [
       "array([[0.40625, 0.95, 0.7894736842105263],\n",
       "       [0.625, 0.875, 1.0],\n",
       "       [1.0, 0.95, 0.2631578947368421],\n",
       "       ...,\n",
       "       [0.78125, 0.7125, 0.8421052631578947],\n",
       "       [0.4375, 0.9, 0.2631578947368421],\n",
       "       [0.84375, 0.5375, 0.21052631578947367]], dtype=object)"
      ]
     },
     "execution_count": 235,
     "metadata": {},
     "output_type": "execute_result"
    }
   ],
   "source": [
    "X_train"
   ]
  },
  {
   "cell_type": "code",
   "execution_count": 243,
   "id": "5426f6e6",
   "metadata": {},
   "outputs": [],
   "source": [
    "new_survey = pd.DataFrame(columns=['실제 설문 점수 (평균)', '예측 설문 점수', '오차'])\n",
    "\n",
    "for days in range(0, 500):\n",
    "    now_after = now + dt.timedelta(days=days)\n",
    "    str_after = dt.datetime.strftime(now_after, '%Y-%m-%d')\n",
    "    \n",
    "    # 온도 10~32\n",
    "    ran_temp = ran.randrange(10, 33)\n",
    "    \n",
    "    # 습도 30 ~ 80\n",
    "    ran_hum = ran.randrange(30, 81)\n",
    "    \n",
    "    # 조도 200 ~ 1900 (100 단위)\n",
    "    ran_lux = ran.randrange(200, 1901, 100)\n",
    "    \n",
    "    \n",
    "    np_features = np.array([[ran_temp / max_temp,\n",
    "                             ran_hum / max_hum, \n",
    "                             ran_lux / max_lux]])\n",
    "    user_scores = np.array([])\n",
    "    for user_idx in range(0,50):\n",
    "        _s = users[user_idx].score(ran_temp,\n",
    "                       ran_hum,\n",
    "                       ran_lux)\n",
    "        user_scores = np.append(user_scores,\n",
    "                               _s)\n",
    "    \n",
    "    new_survey.loc[days] = [\n",
    "        user_scores.mean(),\n",
    "        RFModel.predict(np_features)[0],\n",
    "        abs(user_scores.mean() - RFModel.predict(np_features)[0])\n",
    "    ]"
   ]
  },
  {
   "cell_type": "code",
   "execution_count": 251,
   "id": "5e715a3b",
   "metadata": {},
   "outputs": [
    {
     "name": "stdout",
     "output_type": "stream",
     "text": [
      "해당 모델의 오차 평균은 0.318점 입니다.\n"
     ]
    }
   ],
   "source": [
    "print(\"해당 모델의 오차 평균은 {}점 입니다.\".format(round(new_survey['오차'].mean() * 1000) / 1000))"
   ]
  },
  {
   "cell_type": "code",
   "execution_count": 260,
   "id": "3dddf716",
   "metadata": {},
   "outputs": [
    {
     "data": {
      "text/plain": [
       "<AxesSubplot:>"
      ]
     },
     "execution_count": 260,
     "metadata": {},
     "output_type": "execute_result"
    },
    {
     "data": {
      "image/png": "[encoded data removed]",
      "text/plain": [
       "<Figure size 432x288 with 1 Axes>"
      ]
     },
     "metadata": {
      "needs_background": "light"
     },
     "output_type": "display_data"
    }
   ],
   "source": [
    "pd.Series(y_train).hist(bin=)"
   ]
  },
  {
   "cell_type": "code",
   "execution_count": 266,
   "id": "95f4e509",
   "metadata": {},
   "outputs": [
    {
     "name": "stdout",
     "output_type": "stream",
     "text": [
      "설문점수 중 가장 높은 점수는 56.34점 이었으며,\n",
      "가장 낮은 점수는 49.02점 이었습니다.\n"
     ]
    }
   ],
   "source": [
    "max_score = y_train[y_train.argmax()]\n",
    "min_score = y_train[y_train.argmin()]\n",
    "\n",
    "print(\"설문점수 중 가장 높은 점수는 {}점 이었으며,\\n\".format(max_score) \\\n",
    "     + \"가장 낮은 점수는 {}점 이었습니다.\".format(min_score))"
   ]
  },
  {
   "cell_type": "code",
   "execution_count": 269,
   "id": "c88e83f1",
   "metadata": {},
   "outputs": [
    {
     "data": {
      "text/plain": [
       "array([20.0, 58.0, 1100.0], dtype=object)"
      ]
     },
     "execution_count": 269,
     "metadata": {},
     "output_type": "execute_result"
    }
   ],
   "source": [
    "X_train[y_train.argmax()] * [max_temp, max_hum, max_lux]"
   ]
  },
  {
   "cell_type": "code",
   "execution_count": null,
   "id": "8531112f",
   "metadata": {},
   "outputs": [],
   "source": [
    "X_train[y_train.argmax()] * [max_temp, max_hum, max_lux]"
   ]
  }
 ],
 "metadata": {
  "kernelspec": {
   "display_name": "Python 3 (ipykernel)",
   "language": "python",
   "name": "python3"
  },
  "language_info": {
   "codemirror_mode": {
    "name": "ipython",
    "version": 3
   },
   "file_extension": ".py",
   "mimetype": "text/x-python",
   "name": "python",
   "nbconvert_exporter": "python",
   "pygments_lexer": "ipython3",
   "version": "3.8.12"
  }
 },
 "nbformat": 4,
 "nbformat_minor": 5
}

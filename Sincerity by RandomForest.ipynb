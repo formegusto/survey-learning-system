{
 "cells": [
  {
   "cell_type": "code",
   "execution_count": 1,
   "id": "d7e5f2f7",
   "metadata": {},
   "outputs": [],
   "source": [
    "import numpy as np\n",
    "import pandas as pd\n",
    "import random as ran\n",
    "import datetime as dt\n",
    "from sklearn.model_selection import train_test_split\n",
    "from sklearn.metrics import mean_squared_error\n",
    "from sklearn.ensemble import RandomForestRegressor\n",
    "import matplotlib.pyplot as plt"
   ]
  },
  {
   "cell_type": "code",
   "execution_count": 4,
   "id": "32eebdcb",
   "metadata": {},
   "outputs": [],
   "source": [
    "class User:\n",
    "    def __init__(self, user_id,importance_features, not_sincerity=False):\n",
    "        self.user_id = user_id\n",
    "        self.importance_features = importance_features\n",
    "        self.survey = pd.DataFrame(columns=['no','temp','hum', 'lux', 'score'])\n",
    "        self.not_sincerity = not_sincerity\n",
    "        \n",
    "    def save_survey(self, no,temp, hum, lux ,score):\n",
    "        self.survey = self.survey.append({\n",
    "            \"no\": no,\n",
    "            \"temp\": temp,\n",
    "            \"hum\": hum,\n",
    "            \"lux\": lux,\n",
    "            \"score\": score\n",
    "        }, ignore_index=True)\n",
    "    \n",
    "    def score(self, temp, hum, lux):\n",
    "        _score = np.array([0,0,0])\n",
    "        \n",
    "        if len(self.importance_features) == 0:\n",
    "            if self.not_sincerity:\n",
    "                for idx in range(0, len(_score)):\n",
    "                    _score[idx] = 20\n",
    "            else:\n",
    "                one_line = ran.randrange(0, 2)\n",
    "                if one_line == 0:\n",
    "                    s = ran.randrange(5, 21, 5)\n",
    "                    for idx in range(0, len(_score)):\n",
    "                        _score[idx] = s\n",
    "                else:\n",
    "                    for idx in range(0, len(_score)):\n",
    "                        _score[idx] = ran.randrange(5, 21)\n",
    "        else:\n",
    "            if 'temp' in self.importance_features:\n",
    "                if (temp >= 18) & (temp <= 20):\n",
    "                    _score[0] = 20\n",
    "                else:\n",
    "                    err = 0\n",
    "                    if temp <= 18:\n",
    "                        err = 18 - temp\n",
    "                    else:\n",
    "                        err = temp - 20\n",
    "                    _score[0] = 20 - round(err / 2)\n",
    "            else:\n",
    "                _score[0] = ran.randrange(17, 21)\n",
    "                    \n",
    "\n",
    "            if 'hum' in self.importance_features:\n",
    "                if (hum >= 40) & (hum <= 60):\n",
    "                    _score[1] = 20\n",
    "                else:\n",
    "                    err = 0\n",
    "                    if hum <= 40:\n",
    "                        err = 40 - hum\n",
    "                    else:\n",
    "                        err = hum - 60\n",
    "                    _score[1] = 20 - round(err / 5)\n",
    "            else:\n",
    "                _score[1] = ran.randrange(17, 21)\n",
    "\n",
    "\n",
    "            if 'lux' in self.importance_features:\n",
    "                if (lux >= 700) & (lux <= 1500):\n",
    "                    _score[2] = 20\n",
    "                else:\n",
    "                    err = 0\n",
    "                    if temp < 700:\n",
    "                        err = 700 - lux\n",
    "                    else:\n",
    "                        err = lux - 1500\n",
    "                    _score[2] = 20 - round(err / 100)\n",
    "            else:\n",
    "                _score[2] = ran.randrange(17, 21)\n",
    "\n",
    "        return _score.sum()\n",
    "    \n",
    "def generate_features():\n",
    "    features = ['temp', 'hum', 'lux']\n",
    "    imp_features = list()\n",
    "    for f in features:\n",
    "        is_in = ran.randrange(0,2)\n",
    "        if is_in == 0:\n",
    "            imp_features.append(f)\n",
    "    \n",
    "    if len(imp_features) == 0:\n",
    "        is_in = ran.randrange(0, 3)\n",
    "        imp_features.append(features[is_in])\n",
    "        \n",
    "    return imp_features            "
   ]
  },
  {
   "cell_type": "code",
   "execution_count": 21,
   "id": "7ee54084",
   "metadata": {},
   "outputs": [],
   "source": [
    "# 성실 참여자 50명 생성\n",
    "users = list()\n",
    "for user_id in range(0, 50):\n",
    "    user = User(user_id, generate_features())\n",
    "    users.append(user)\n",
    "    \n",
    "# 불성실 참여자 30명 생성\n",
    "for user_id in range(50, 80):\n",
    "    user = User(user_id, [])\n",
    "    users.append(user)\n",
    "    \n",
    "# 매우불성실 참여자 20명 생성\n",
    "for user_id in range(80, 100):\n",
    "    user = User(user_id, [], True)\n",
    "    users.append(user)\n",
    "    \n",
    "now = dt.datetime.now()\n",
    "\n",
    "for days in range(0, 540):\n",
    "    now_after = now + dt.timedelta(days=days)\n",
    "    str_after = dt.datetime.strftime(now_after, '%Y-%m-%d')\n",
    "    \n",
    "    # 온도 10~32\n",
    "    ran_temp = ran.randrange(10, 33)\n",
    "    \n",
    "    # 습도 30 ~ 80\n",
    "    ran_hum = ran.randrange(30, 81)\n",
    "    \n",
    "    # 조도 200 ~ 1900 (100 단위)\n",
    "    ran_lux = ran.randrange(200, 1901, 100)\n",
    "    \n",
    "    for user in users:\n",
    "        _s = user.score(ran_temp,\n",
    "                       ran_hum,\n",
    "                       ran_lux)\n",
    "        user.save_survey(\n",
    "            days,\n",
    "            ran_temp,\n",
    "            ran_hum,\n",
    "            ran_lux,\n",
    "            _s\n",
    "        )"
   ]
  },
  {
   "cell_type": "code",
   "execution_count": 36,
   "id": "e3e67249",
   "metadata": {},
   "outputs": [
    {
     "name": "stdout",
     "output_type": "stream",
     "text": [
      "user id : 0 / 중요 특징 : ['hum']\n"
     ]
    },
    {
     "data": {
      "text/html": [
       "<div>\n",
       "<style scoped>\n",
       "    .dataframe tbody tr th:only-of-type {\n",
       "        vertical-align: middle;\n",
       "    }\n",
       "\n",
       "    .dataframe tbody tr th {\n",
       "        vertical-align: top;\n",
       "    }\n",
       "\n",
       "    .dataframe thead th {\n",
       "        text-align: right;\n",
       "    }\n",
       "</style>\n",
       "<table border=\"1\" class=\"dataframe\">\n",
       "  <thead>\n",
       "    <tr style=\"text-align: right;\">\n",
       "      <th></th>\n",
       "      <th>no</th>\n",
       "      <th>temp</th>\n",
       "      <th>hum</th>\n",
       "      <th>lux</th>\n",
       "      <th>score</th>\n",
       "    </tr>\n",
       "  </thead>\n",
       "  <tbody>\n",
       "    <tr>\n",
       "      <th>0</th>\n",
       "      <td>0</td>\n",
       "      <td>17</td>\n",
       "      <td>41</td>\n",
       "      <td>300</td>\n",
       "      <td>56</td>\n",
       "    </tr>\n",
       "    <tr>\n",
       "      <th>1</th>\n",
       "      <td>1</td>\n",
       "      <td>15</td>\n",
       "      <td>62</td>\n",
       "      <td>1700</td>\n",
       "      <td>54</td>\n",
       "    </tr>\n",
       "    <tr>\n",
       "      <th>2</th>\n",
       "      <td>2</td>\n",
       "      <td>26</td>\n",
       "      <td>57</td>\n",
       "      <td>1900</td>\n",
       "      <td>57</td>\n",
       "    </tr>\n",
       "    <tr>\n",
       "      <th>3</th>\n",
       "      <td>3</td>\n",
       "      <td>10</td>\n",
       "      <td>70</td>\n",
       "      <td>500</td>\n",
       "      <td>57</td>\n",
       "    </tr>\n",
       "    <tr>\n",
       "      <th>4</th>\n",
       "      <td>4</td>\n",
       "      <td>13</td>\n",
       "      <td>65</td>\n",
       "      <td>600</td>\n",
       "      <td>56</td>\n",
       "    </tr>\n",
       "    <tr>\n",
       "      <th>...</th>\n",
       "      <td>...</td>\n",
       "      <td>...</td>\n",
       "      <td>...</td>\n",
       "      <td>...</td>\n",
       "      <td>...</td>\n",
       "    </tr>\n",
       "    <tr>\n",
       "      <th>535</th>\n",
       "      <td>535</td>\n",
       "      <td>11</td>\n",
       "      <td>51</td>\n",
       "      <td>400</td>\n",
       "      <td>59</td>\n",
       "    </tr>\n",
       "    <tr>\n",
       "      <th>536</th>\n",
       "      <td>536</td>\n",
       "      <td>29</td>\n",
       "      <td>75</td>\n",
       "      <td>900</td>\n",
       "      <td>55</td>\n",
       "    </tr>\n",
       "    <tr>\n",
       "      <th>537</th>\n",
       "      <td>537</td>\n",
       "      <td>27</td>\n",
       "      <td>34</td>\n",
       "      <td>700</td>\n",
       "      <td>58</td>\n",
       "    </tr>\n",
       "    <tr>\n",
       "      <th>538</th>\n",
       "      <td>538</td>\n",
       "      <td>11</td>\n",
       "      <td>51</td>\n",
       "      <td>1300</td>\n",
       "      <td>54</td>\n",
       "    </tr>\n",
       "    <tr>\n",
       "      <th>539</th>\n",
       "      <td>539</td>\n",
       "      <td>17</td>\n",
       "      <td>41</td>\n",
       "      <td>700</td>\n",
       "      <td>56</td>\n",
       "    </tr>\n",
       "  </tbody>\n",
       "</table>\n",
       "<p>540 rows × 5 columns</p>\n",
       "</div>"
      ],
      "text/plain": [
       "      no temp hum   lux score\n",
       "0      0   17  41   300    56\n",
       "1      1   15  62  1700    54\n",
       "2      2   26  57  1900    57\n",
       "3      3   10  70   500    57\n",
       "4      4   13  65   600    56\n",
       "..   ...  ...  ..   ...   ...\n",
       "535  535   11  51   400    59\n",
       "536  536   29  75   900    55\n",
       "537  537   27  34   700    58\n",
       "538  538   11  51  1300    54\n",
       "539  539   17  41   700    56\n",
       "\n",
       "[540 rows x 5 columns]"
      ]
     },
     "execution_count": 36,
     "metadata": {},
     "output_type": "execute_result"
    }
   ],
   "source": [
    "user = users[0]\n",
    "print(\"user id : {} / 중요 특징 : {}\"\n",
    "      .format(user.user_id, user.importance_features))\n",
    "\n",
    "df = user.survey\n",
    "df"
   ]
  },
  {
   "cell_type": "code",
   "execution_count": 23,
   "id": "850cb89e",
   "metadata": {},
   "outputs": [],
   "source": [
    "features = np.array(['no', 'temp', 'hum', 'lux'])\n",
    "\n",
    "X = df[features].to_numpy().copy()\n",
    "y = df[['score']].to_numpy().copy()\n",
    "\n",
    "X_train, X_test, y_train, y_test = train_test_split(X,y, test_size=0.2)"
   ]
  },
  {
   "cell_type": "code",
   "execution_count": 24,
   "id": "c77191bc",
   "metadata": {},
   "outputs": [],
   "source": [
    "RFModel = RandomForestRegressor(n_estimators=20,\n",
    "                                oob_score=False,\n",
    "                                random_state=531)"
   ]
  },
  {
   "cell_type": "code",
   "execution_count": 25,
   "id": "8196853e",
   "metadata": {},
   "outputs": [
    {
     "data": {
      "text/plain": [
       "RandomForestRegressor(n_estimators=20, random_state=531)"
      ]
     },
     "execution_count": 25,
     "metadata": {},
     "output_type": "execute_result"
    }
   ],
   "source": [
    "RFModel.fit(X_train, y_train.ravel())"
   ]
  },
  {
   "cell_type": "code",
   "execution_count": 26,
   "id": "d3de50fd",
   "metadata": {},
   "outputs": [
    {
     "name": "stdout",
     "output_type": "stream",
     "text": [
      "MSE: 2.4853472222222224\n"
     ]
    }
   ],
   "source": [
    "prediction = RFModel.predict(X_test)\n",
    "mse = mean_squared_error(y_test,prediction)\n",
    "print(\"MSE: {}\".format(mse))"
   ]
  },
  {
   "cell_type": "code",
   "execution_count": 27,
   "id": "5cd4b331",
   "metadata": {},
   "outputs": [],
   "source": [
    "feature_importance = RFModel.feature_importances_"
   ]
  },
  {
   "cell_type": "code",
   "execution_count": 28,
   "id": "9d0ca834",
   "metadata": {},
   "outputs": [
    {
     "name": "stdout",
     "output_type": "stream",
     "text": [
      "[0.18957481 0.12941762 0.53213346 0.14887411]\n"
     ]
    }
   ],
   "source": [
    "print(feature_importance)"
   ]
  },
  {
   "cell_type": "code",
   "execution_count": 29,
   "id": "1612fb11",
   "metadata": {},
   "outputs": [
    {
     "name": "stdout",
     "output_type": "stream",
     "text": [
      "[0.35625425 0.2432052  1.         0.27976836]\n"
     ]
    }
   ],
   "source": [
    "feature_importance = feature_importance / feature_importance.max()\n",
    "print(feature_importance)"
   ]
  },
  {
   "cell_type": "code",
   "execution_count": 30,
   "id": "c2f0d791",
   "metadata": {},
   "outputs": [
    {
     "name": "stdout",
     "output_type": "stream",
     "text": [
      "[2 0 3 1]\n"
     ]
    }
   ],
   "source": [
    "sorted_idx = np.argsort(feature_importance)\n",
    "print(sorted_idx[::-1])"
   ]
  },
  {
   "cell_type": "code",
   "execution_count": 31,
   "id": "ee8d2580",
   "metadata": {},
   "outputs": [
    {
     "data": {
      "text/plain": [
       "array([0.5, 1.5, 2.5, 3.5])"
      ]
     },
     "execution_count": 31,
     "metadata": {},
     "output_type": "execute_result"
    }
   ],
   "source": [
    "bar_pos = np.arange(sorted_idx.shape[0]) + .5\n",
    "bar_pos"
   ]
  },
  {
   "cell_type": "code",
   "execution_count": 32,
   "id": "4ba56180",
   "metadata": {},
   "outputs": [
    {
     "data": {
      "text/plain": [
       "array([0.2432052 , 0.27976836, 0.35625425, 1.        ])"
      ]
     },
     "execution_count": 32,
     "metadata": {},
     "output_type": "execute_result"
    }
   ],
   "source": [
    "feature_importance[sorted_idx]"
   ]
  },
  {
   "cell_type": "code",
   "execution_count": 33,
   "id": "dbda7d9c",
   "metadata": {},
   "outputs": [
    {
     "data": {
      "text/plain": [
       "array(['hum', 'no', 'lux', 'temp'], dtype='<U4')"
      ]
     },
     "execution_count": 33,
     "metadata": {},
     "output_type": "execute_result"
    }
   ],
   "source": [
    "features[sorted_idx[::-1]]"
   ]
  },
  {
   "cell_type": "code",
   "execution_count": 34,
   "id": "c8ecccdd",
   "metadata": {},
   "outputs": [
    {
     "data": {
      "image/png": "[encoded data removed]",
      "text/plain": [
       "<Figure size 432x288 with 1 Axes>"
      ]
     },
     "metadata": {
      "needs_background": "light"
     },
     "output_type": "display_data"
    }
   ],
   "source": [
    "plt.barh(bar_pos, feature_importance[sorted_idx], align='center')\n",
    "plt.yticks(bar_pos, features[sorted_idx])\n",
    "plt.xlabel(\"Variable Importance\")\n",
    "plt.show()"
   ]
  },
  {
   "cell_type": "markdown",
   "id": "6860770f",
   "metadata": {},
   "source": [
    "# 실제 특징과 주요 특징 비교"
   ]
  },
  {
   "cell_type": "code",
   "execution_count": 35,
   "id": "bfc2dc52",
   "metadata": {},
   "outputs": [
    {
     "name": "stderr",
     "output_type": "stream",
     "text": [
      "/var/folders/52/4yvp7r991px0gmq4wyr894j40000gn/T/ipykernel_43850/1298415607.py:22: RuntimeWarning: invalid value encountered in true_divide\n",
      "  feature_importance = feature_importance / feature_importance.max()\n",
      "/var/folders/52/4yvp7r991px0gmq4wyr894j40000gn/T/ipykernel_43850/1298415607.py:22: RuntimeWarning: invalid value encountered in true_divide\n",
      "  feature_importance = feature_importance / feature_importance.max()\n",
      "/var/folders/52/4yvp7r991px0gmq4wyr894j40000gn/T/ipykernel_43850/1298415607.py:22: RuntimeWarning: invalid value encountered in true_divide\n",
      "  feature_importance = feature_importance / feature_importance.max()\n",
      "/var/folders/52/4yvp7r991px0gmq4wyr894j40000gn/T/ipykernel_43850/1298415607.py:22: RuntimeWarning: invalid value encountered in true_divide\n",
      "  feature_importance = feature_importance / feature_importance.max()\n",
      "/var/folders/52/4yvp7r991px0gmq4wyr894j40000gn/T/ipykernel_43850/1298415607.py:22: RuntimeWarning: invalid value encountered in true_divide\n",
      "  feature_importance = feature_importance / feature_importance.max()\n",
      "/var/folders/52/4yvp7r991px0gmq4wyr894j40000gn/T/ipykernel_43850/1298415607.py:22: RuntimeWarning: invalid value encountered in true_divide\n",
      "  feature_importance = feature_importance / feature_importance.max()\n",
      "/var/folders/52/4yvp7r991px0gmq4wyr894j40000gn/T/ipykernel_43850/1298415607.py:22: RuntimeWarning: invalid value encountered in true_divide\n",
      "  feature_importance = feature_importance / feature_importance.max()\n",
      "/var/folders/52/4yvp7r991px0gmq4wyr894j40000gn/T/ipykernel_43850/1298415607.py:22: RuntimeWarning: invalid value encountered in true_divide\n",
      "  feature_importance = feature_importance / feature_importance.max()\n",
      "/var/folders/52/4yvp7r991px0gmq4wyr894j40000gn/T/ipykernel_43850/1298415607.py:22: RuntimeWarning: invalid value encountered in true_divide\n",
      "  feature_importance = feature_importance / feature_importance.max()\n",
      "/var/folders/52/4yvp7r991px0gmq4wyr894j40000gn/T/ipykernel_43850/1298415607.py:22: RuntimeWarning: invalid value encountered in true_divide\n",
      "  feature_importance = feature_importance / feature_importance.max()\n",
      "/var/folders/52/4yvp7r991px0gmq4wyr894j40000gn/T/ipykernel_43850/1298415607.py:22: RuntimeWarning: invalid value encountered in true_divide\n",
      "  feature_importance = feature_importance / feature_importance.max()\n",
      "/var/folders/52/4yvp7r991px0gmq4wyr894j40000gn/T/ipykernel_43850/1298415607.py:22: RuntimeWarning: invalid value encountered in true_divide\n",
      "  feature_importance = feature_importance / feature_importance.max()\n",
      "/var/folders/52/4yvp7r991px0gmq4wyr894j40000gn/T/ipykernel_43850/1298415607.py:22: RuntimeWarning: invalid value encountered in true_divide\n",
      "  feature_importance = feature_importance / feature_importance.max()\n",
      "/var/folders/52/4yvp7r991px0gmq4wyr894j40000gn/T/ipykernel_43850/1298415607.py:22: RuntimeWarning: invalid value encountered in true_divide\n",
      "  feature_importance = feature_importance / feature_importance.max()\n",
      "/var/folders/52/4yvp7r991px0gmq4wyr894j40000gn/T/ipykernel_43850/1298415607.py:22: RuntimeWarning: invalid value encountered in true_divide\n",
      "  feature_importance = feature_importance / feature_importance.max()\n",
      "/var/folders/52/4yvp7r991px0gmq4wyr894j40000gn/T/ipykernel_43850/1298415607.py:22: RuntimeWarning: invalid value encountered in true_divide\n",
      "  feature_importance = feature_importance / feature_importance.max()\n",
      "/var/folders/52/4yvp7r991px0gmq4wyr894j40000gn/T/ipykernel_43850/1298415607.py:22: RuntimeWarning: invalid value encountered in true_divide\n",
      "  feature_importance = feature_importance / feature_importance.max()\n",
      "/var/folders/52/4yvp7r991px0gmq4wyr894j40000gn/T/ipykernel_43850/1298415607.py:22: RuntimeWarning: invalid value encountered in true_divide\n",
      "  feature_importance = feature_importance / feature_importance.max()\n",
      "/var/folders/52/4yvp7r991px0gmq4wyr894j40000gn/T/ipykernel_43850/1298415607.py:22: RuntimeWarning: invalid value encountered in true_divide\n",
      "  feature_importance = feature_importance / feature_importance.max()\n",
      "/var/folders/52/4yvp7r991px0gmq4wyr894j40000gn/T/ipykernel_43850/1298415607.py:22: RuntimeWarning: invalid value encountered in true_divide\n",
      "  feature_importance = feature_importance / feature_importance.max()\n"
     ]
    }
   ],
   "source": [
    "features = np.array(['no', 'temp', 'hum', 'lux'])\n",
    "_record = pd.DataFrame(columns=['user id',\n",
    "                                'imp features', \n",
    "                                'RF imp features', \n",
    "                                'mse'])\n",
    "\n",
    "for user in users:\n",
    "    df = user.survey\n",
    "    X = df[features].to_numpy().copy()\n",
    "    y = df[['score']].to_numpy().copy()\n",
    "    \n",
    "    X_train, X_test, y_train, y_test = train_test_split(X,y, test_size=0.2)\n",
    "\n",
    "    RFModel = RandomForestRegressor(n_estimators=20,\n",
    "                                oob_score=False,random_state=531)\n",
    "    RFModel.fit(X_train, y_train.ravel())\n",
    "    prediction = RFModel.predict(X_test)\n",
    "    \n",
    "    mse = mean_squared_error(y_test,prediction)\n",
    "    \n",
    "    feature_importance = RFModel.feature_importances_\n",
    "    feature_importance = feature_importance / feature_importance.max()\n",
    "    \n",
    "    sorted_idx = np.argsort(feature_importance)\n",
    "    bar_pos = np.arange(sorted_idx.shape[0]) + .5\n",
    "    \n",
    "    _features = features[sorted_idx[::-1]]\n",
    "    \n",
    "    user_id = user.user_id\n",
    "    imp_features = user.importance_features\n",
    "    imp_length = len(imp_features)\n",
    "    if imp_length == 0:\n",
    "        RF_imp_features = [_features[0]]\n",
    "    else:\n",
    "        RF_imp_features = _features[:imp_length]\n",
    "\n",
    "    _record = _record.append({\n",
    "        \"user id\": user_id,\n",
    "        \"mse\": mse,\n",
    "        \"imp features\": \",\".join(imp_features),\n",
    "        \"RF imp features\": \",\".join(RF_imp_features)\n",
    "    }, ignore_index=True)"
   ]
  },
  {
   "cell_type": "code",
   "execution_count": 20,
   "id": "292674ed",
   "metadata": {},
   "outputs": [
    {
     "data": {
      "text/html": [
       "<div>\n",
       "<style scoped>\n",
       "    .dataframe tbody tr th:only-of-type {\n",
       "        vertical-align: middle;\n",
       "    }\n",
       "\n",
       "    .dataframe tbody tr th {\n",
       "        vertical-align: top;\n",
       "    }\n",
       "\n",
       "    .dataframe thead th {\n",
       "        text-align: right;\n",
       "    }\n",
       "</style>\n",
       "<table border=\"1\" class=\"dataframe\">\n",
       "  <thead>\n",
       "    <tr style=\"text-align: right;\">\n",
       "      <th></th>\n",
       "      <th>user id</th>\n",
       "      <th>imp features</th>\n",
       "      <th>RF imp features</th>\n",
       "      <th>mse</th>\n",
       "    </tr>\n",
       "  </thead>\n",
       "  <tbody>\n",
       "    <tr>\n",
       "      <th>0</th>\n",
       "      <td>0</td>\n",
       "      <td>hum,lux</td>\n",
       "      <td>lux,hum</td>\n",
       "      <td>1.377361</td>\n",
       "    </tr>\n",
       "    <tr>\n",
       "      <th>1</th>\n",
       "      <td>1</td>\n",
       "      <td>temp</td>\n",
       "      <td>temp</td>\n",
       "      <td>2.758356</td>\n",
       "    </tr>\n",
       "    <tr>\n",
       "      <th>2</th>\n",
       "      <td>2</td>\n",
       "      <td>temp,hum,lux</td>\n",
       "      <td>lux,temp,hum</td>\n",
       "      <td>0.436227</td>\n",
       "    </tr>\n",
       "    <tr>\n",
       "      <th>3</th>\n",
       "      <td>3</td>\n",
       "      <td>temp</td>\n",
       "      <td>temp</td>\n",
       "      <td>2.652269</td>\n",
       "    </tr>\n",
       "    <tr>\n",
       "      <th>4</th>\n",
       "      <td>4</td>\n",
       "      <td>hum,lux</td>\n",
       "      <td>lux,hum</td>\n",
       "      <td>1.533495</td>\n",
       "    </tr>\n",
       "    <tr>\n",
       "      <th>...</th>\n",
       "      <td>...</td>\n",
       "      <td>...</td>\n",
       "      <td>...</td>\n",
       "      <td>...</td>\n",
       "    </tr>\n",
       "    <tr>\n",
       "      <th>95</th>\n",
       "      <td>95</td>\n",
       "      <td></td>\n",
       "      <td>lux</td>\n",
       "      <td>0.000000</td>\n",
       "    </tr>\n",
       "    <tr>\n",
       "      <th>96</th>\n",
       "      <td>96</td>\n",
       "      <td></td>\n",
       "      <td>lux</td>\n",
       "      <td>0.000000</td>\n",
       "    </tr>\n",
       "    <tr>\n",
       "      <th>97</th>\n",
       "      <td>97</td>\n",
       "      <td></td>\n",
       "      <td>lux</td>\n",
       "      <td>0.000000</td>\n",
       "    </tr>\n",
       "    <tr>\n",
       "      <th>98</th>\n",
       "      <td>98</td>\n",
       "      <td></td>\n",
       "      <td>lux</td>\n",
       "      <td>0.000000</td>\n",
       "    </tr>\n",
       "    <tr>\n",
       "      <th>99</th>\n",
       "      <td>99</td>\n",
       "      <td></td>\n",
       "      <td>lux</td>\n",
       "      <td>0.000000</td>\n",
       "    </tr>\n",
       "  </tbody>\n",
       "</table>\n",
       "<p>100 rows × 4 columns</p>\n",
       "</div>"
      ],
      "text/plain": [
       "   user id  imp features RF imp features       mse\n",
       "0        0       hum,lux         lux,hum  1.377361\n",
       "1        1          temp            temp  2.758356\n",
       "2        2  temp,hum,lux    lux,temp,hum  0.436227\n",
       "3        3          temp            temp  2.652269\n",
       "4        4       hum,lux         lux,hum  1.533495\n",
       "..     ...           ...             ...       ...\n",
       "95      95                           lux  0.000000\n",
       "96      96                           lux  0.000000\n",
       "97      97                           lux  0.000000\n",
       "98      98                           lux  0.000000\n",
       "99      99                           lux  0.000000\n",
       "\n",
       "[100 rows x 4 columns]"
      ]
     },
     "execution_count": 20,
     "metadata": {},
     "output_type": "execute_result"
    }
   ],
   "source": [
    "_record"
   ]
  },
  {
   "cell_type": "code",
   "execution_count": 46,
   "id": "17da8425",
   "metadata": {},
   "outputs": [
    {
     "data": {
      "text/html": [
       "<div>\n",
       "<style scoped>\n",
       "    .dataframe tbody tr th:only-of-type {\n",
       "        vertical-align: middle;\n",
       "    }\n",
       "\n",
       "    .dataframe tbody tr th {\n",
       "        vertical-align: top;\n",
       "    }\n",
       "\n",
       "    .dataframe thead th {\n",
       "        text-align: right;\n",
       "    }\n",
       "</style>\n",
       "<table border=\"1\" class=\"dataframe\">\n",
       "  <thead>\n",
       "    <tr style=\"text-align: right;\">\n",
       "      <th></th>\n",
       "      <th>user id</th>\n",
       "      <th>imp features</th>\n",
       "      <th>RF imp features</th>\n",
       "      <th>mse</th>\n",
       "    </tr>\n",
       "  </thead>\n",
       "  <tbody>\n",
       "    <tr>\n",
       "      <th>90</th>\n",
       "      <td>90</td>\n",
       "      <td></td>\n",
       "      <td>lux</td>\n",
       "      <td>0.0</td>\n",
       "    </tr>\n",
       "    <tr>\n",
       "      <th>91</th>\n",
       "      <td>91</td>\n",
       "      <td></td>\n",
       "      <td>lux</td>\n",
       "      <td>0.0</td>\n",
       "    </tr>\n",
       "    <tr>\n",
       "      <th>92</th>\n",
       "      <td>92</td>\n",
       "      <td></td>\n",
       "      <td>lux</td>\n",
       "      <td>0.0</td>\n",
       "    </tr>\n",
       "    <tr>\n",
       "      <th>93</th>\n",
       "      <td>93</td>\n",
       "      <td></td>\n",
       "      <td>lux</td>\n",
       "      <td>0.0</td>\n",
       "    </tr>\n",
       "    <tr>\n",
       "      <th>94</th>\n",
       "      <td>94</td>\n",
       "      <td></td>\n",
       "      <td>lux</td>\n",
       "      <td>0.0</td>\n",
       "    </tr>\n",
       "    <tr>\n",
       "      <th>95</th>\n",
       "      <td>95</td>\n",
       "      <td></td>\n",
       "      <td>lux</td>\n",
       "      <td>0.0</td>\n",
       "    </tr>\n",
       "    <tr>\n",
       "      <th>96</th>\n",
       "      <td>96</td>\n",
       "      <td></td>\n",
       "      <td>lux</td>\n",
       "      <td>0.0</td>\n",
       "    </tr>\n",
       "    <tr>\n",
       "      <th>97</th>\n",
       "      <td>97</td>\n",
       "      <td></td>\n",
       "      <td>lux</td>\n",
       "      <td>0.0</td>\n",
       "    </tr>\n",
       "    <tr>\n",
       "      <th>98</th>\n",
       "      <td>98</td>\n",
       "      <td></td>\n",
       "      <td>lux</td>\n",
       "      <td>0.0</td>\n",
       "    </tr>\n",
       "    <tr>\n",
       "      <th>99</th>\n",
       "      <td>99</td>\n",
       "      <td></td>\n",
       "      <td>lux</td>\n",
       "      <td>0.0</td>\n",
       "    </tr>\n",
       "  </tbody>\n",
       "</table>\n",
       "</div>"
      ],
      "text/plain": [
       "   user id imp features RF imp features  mse\n",
       "90      90                          lux  0.0\n",
       "91      91                          lux  0.0\n",
       "92      92                          lux  0.0\n",
       "93      93                          lux  0.0\n",
       "94      94                          lux  0.0\n",
       "95      95                          lux  0.0\n",
       "96      96                          lux  0.0\n",
       "97      97                          lux  0.0\n",
       "98      98                          lux  0.0\n",
       "99      99                          lux  0.0"
      ]
     },
     "execution_count": 46,
     "metadata": {},
     "output_type": "execute_result"
    }
   ],
   "source": [
    "_record[90:100]"
   ]
  }
 ],
 "metadata": {
  "kernelspec": {
   "display_name": "Python 3 (ipykernel)",
   "language": "python",
   "name": "python3"
  },
  "language_info": {
   "codemirror_mode": {
    "name": "ipython",
    "version": 3
   },
   "file_extension": ".py",
   "mimetype": "text/x-python",
   "name": "python",
   "nbconvert_exporter": "python",
   "pygments_lexer": "ipython3",
   "version": "3.8.12"
  }
 },
 "nbformat": 4,
 "nbformat_minor": 5
}

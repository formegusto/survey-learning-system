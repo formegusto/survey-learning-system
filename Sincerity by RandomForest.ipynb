{
 "cells": [
  {
   "cell_type": "code",
   "execution_count": 292,
   "id": "d7e5f2f7",
   "metadata": {},
   "outputs": [],
   "source": [
    "import numpy as np\n",
    "import pandas as pd\n",
    "import random as ran\n",
    "import datetime as dt\n",
    "from sklearn.model_selection import train_test_split\n",
    "from sklearn.metrics import mean_squared_error\n",
    "from sklearn.ensemble import RandomForestRegressor\n",
    "import matplotlib.pyplot as plt"
   ]
  },
  {
   "cell_type": "code",
   "execution_count": 378,
   "id": "32eebdcb",
   "metadata": {},
   "outputs": [],
   "source": [
    "class User:\n",
    "    def __init__(self, user_id,improved_features, not_sincerity=False):\n",
    "        self.user_id = user_id\n",
    "        self.improved_features = improved_features\n",
    "        self.survey = pd.DataFrame(columns=['no','temp','hum', 'lux', 'score'])\n",
    "        self.not_sincerity = not_sincerity\n",
    "        \n",
    "    def save_survey(self, no,temp, hum, lux ,score):\n",
    "        self.survey = self.survey.append({\n",
    "            \"no\": no,\n",
    "            \"temp\": temp,\n",
    "            \"hum\": hum,\n",
    "            \"lux\": lux,\n",
    "            \"score\": score\n",
    "        }, ignore_index=True)\n",
    "    \n",
    "    def score(self, temp, hum, lux):\n",
    "        _score = np.array([0,0,0])\n",
    "        \n",
    "        if len(self.improved_features) == 0:\n",
    "            if self.not_sincerity:\n",
    "                for idx in range(0, len(_score)):\n",
    "                    _score[idx] = 20\n",
    "            else:\n",
    "                one_line = ran.randrange(0, 2)\n",
    "                if one_line == 0:\n",
    "                    s = ran.randrange(5, 21, 5)\n",
    "                    for idx in range(0, len(_score)):\n",
    "                        _score[idx] = s\n",
    "                else:\n",
    "                    for idx in range(0, len(_score)):\n",
    "                        _score[idx] = ran.randrange(5, 21)\n",
    "        else:\n",
    "            if 'temp' in self.improved_features:\n",
    "                if (temp >= 18) & (temp <= 20):\n",
    "                    _score[0] = 20\n",
    "                else:\n",
    "                    err = 0\n",
    "                    if temp <= 18:\n",
    "                        err = 18 - temp\n",
    "                    else:\n",
    "                        err = temp - 20\n",
    "                    _score[0] = 20 - round(err / 2)\n",
    "            else:\n",
    "                _score[0] = ran.randrange(17, 21)\n",
    "                    \n",
    "\n",
    "            if 'hum' in self.improved_features:\n",
    "                if (hum >= 40) & (hum <= 60):\n",
    "                    _score[1] = 20\n",
    "                else:\n",
    "                    err = 0\n",
    "                    if hum <= 40:\n",
    "                        err = 40 - hum\n",
    "                    else:\n",
    "                        err = hum - 60\n",
    "                    _score[1] = 20 - round(err / 5)\n",
    "            else:\n",
    "                _score[1] = ran.randrange(17, 21)\n",
    "\n",
    "\n",
    "            if 'lux' in self.improved_features:\n",
    "                if (lux >= 700) & (lux <= 1500):\n",
    "                    _score[2] = 20\n",
    "                else:\n",
    "                    err = 0\n",
    "                    if temp < 700:\n",
    "                        err = 700 - lux\n",
    "                    else:\n",
    "                        err = lux - 1500\n",
    "                    _score[2] = 20 - round(err / 100)\n",
    "            else:\n",
    "                _score[2] = ran.randrange(17, 21)\n",
    "\n",
    "        return _score.sum()\n",
    "    \n",
    "def generate_features():\n",
    "    features = ['temp', 'hum', 'lux']\n",
    "    imp_features = list()\n",
    "    for f in features:\n",
    "        is_in = ran.randrange(0,2)\n",
    "        if is_in == 0:\n",
    "            imp_features.append(f)\n",
    "    \n",
    "    if len(imp_features) == 0:\n",
    "        is_in = ran.randrange(0, 3)\n",
    "        imp_features.append(features[is_in])\n",
    "        \n",
    "    return imp_features            "
   ]
  },
  {
   "cell_type": "code",
   "execution_count": 379,
   "id": "7ee54084",
   "metadata": {},
   "outputs": [],
   "source": [
    "# 성실 참여자 50명 생성\n",
    "users = list()\n",
    "for user_id in range(0, 50):\n",
    "    user = User(user_id, generate_features())\n",
    "    users.append(user)\n",
    "    \n",
    "# 불성실 참여자 30명 생성\n",
    "for user_id in range(50, 80):\n",
    "    user = User(user_id, [])\n",
    "    users.append(user)\n",
    "    \n",
    "# 매우불성실 참여자 20명 생성\n",
    "for user_id in range(80, 100):\n",
    "    user = User(user_id, [], True)\n",
    "    users.append(user)\n",
    "    \n",
    "now = dt.datetime.now()\n",
    "\n",
    "for days in range(1, 540):\n",
    "    now_after = now + dt.timedelta(days=days)\n",
    "    str_after = dt.datetime.strftime(now_after, '%Y-%m-%d')\n",
    "    \n",
    "    # 온도 10~32\n",
    "    ran_temp = ran.randrange(10, 33)\n",
    "    \n",
    "    # 습도 30 ~ 80\n",
    "    ran_hum = ran.randrange(30, 81)\n",
    "    \n",
    "    # 조도 200 ~ 1900 (100 단위)\n",
    "    ran_lux = ran.randrange(200, 1901, 100)\n",
    "    \n",
    "    for user in users:\n",
    "        _s = user.score(ran_temp,\n",
    "                       ran_hum,\n",
    "                       ran_lux)\n",
    "        user.save_survey(\n",
    "            days,\n",
    "            ran_temp,\n",
    "            ran_hum,\n",
    "            ran_lux,\n",
    "            _s\n",
    "        )"
   ]
  },
  {
   "cell_type": "code",
   "execution_count": 354,
   "id": "e3e67249",
   "metadata": {},
   "outputs": [
    {
     "name": "stdout",
     "output_type": "stream",
     "text": [
      "user id : 0 / 중요 특징 : ['lux']\n"
     ]
    },
    {
     "data": {
      "text/html": [
       "<div>\n",
       "<style scoped>\n",
       "    .dataframe tbody tr th:only-of-type {\n",
       "        vertical-align: middle;\n",
       "    }\n",
       "\n",
       "    .dataframe tbody tr th {\n",
       "        vertical-align: top;\n",
       "    }\n",
       "\n",
       "    .dataframe thead th {\n",
       "        text-align: right;\n",
       "    }\n",
       "</style>\n",
       "<table border=\"1\" class=\"dataframe\">\n",
       "  <thead>\n",
       "    <tr style=\"text-align: right;\">\n",
       "      <th></th>\n",
       "      <th>no</th>\n",
       "      <th>temp</th>\n",
       "      <th>hum</th>\n",
       "      <th>lux</th>\n",
       "      <th>score</th>\n",
       "    </tr>\n",
       "  </thead>\n",
       "  <tbody>\n",
       "    <tr>\n",
       "      <th>0</th>\n",
       "      <td>1</td>\n",
       "      <td>28</td>\n",
       "      <td>77</td>\n",
       "      <td>1400</td>\n",
       "      <td>57</td>\n",
       "    </tr>\n",
       "    <tr>\n",
       "      <th>1</th>\n",
       "      <td>2</td>\n",
       "      <td>29</td>\n",
       "      <td>54</td>\n",
       "      <td>900</td>\n",
       "      <td>57</td>\n",
       "    </tr>\n",
       "    <tr>\n",
       "      <th>2</th>\n",
       "      <td>3</td>\n",
       "      <td>23</td>\n",
       "      <td>78</td>\n",
       "      <td>300</td>\n",
       "      <td>54</td>\n",
       "    </tr>\n",
       "    <tr>\n",
       "      <th>3</th>\n",
       "      <td>4</td>\n",
       "      <td>16</td>\n",
       "      <td>49</td>\n",
       "      <td>1300</td>\n",
       "      <td>57</td>\n",
       "    </tr>\n",
       "    <tr>\n",
       "      <th>4</th>\n",
       "      <td>5</td>\n",
       "      <td>12</td>\n",
       "      <td>51</td>\n",
       "      <td>1200</td>\n",
       "      <td>56</td>\n",
       "    </tr>\n",
       "  </tbody>\n",
       "</table>\n",
       "</div>"
      ],
      "text/plain": [
       "  no temp hum   lux score\n",
       "0  1   28  77  1400    57\n",
       "1  2   29  54   900    57\n",
       "2  3   23  78   300    54\n",
       "3  4   16  49  1300    57\n",
       "4  5   12  51  1200    56"
      ]
     },
     "execution_count": 354,
     "metadata": {},
     "output_type": "execute_result"
    }
   ],
   "source": [
    "user = users[0]\n",
    "print(\"user id : {} / 중요 특징 : {}\"\n",
    "      .format(user.user_id, user.improved_features))\n",
    "\n",
    "df = user.survey\n",
    "df.head()"
   ]
  },
  {
   "cell_type": "code",
   "execution_count": 355,
   "id": "850cb89e",
   "metadata": {},
   "outputs": [],
   "source": [
    "features = np.array(['no', 'temp', 'hum', 'lux'])\n",
    "\n",
    "X = df[features].to_numpy().copy()\n",
    "y = df[['score']].to_numpy().copy()\n",
    "\n",
    "X_train, X_test, y_train, y_test = train_test_split(X,y, test_size=0.2)"
   ]
  },
  {
   "cell_type": "code",
   "execution_count": 356,
   "id": "c77191bc",
   "metadata": {},
   "outputs": [],
   "source": [
    "RFModel = RandomForestRegressor(n_estimators=20,\n",
    "                                oob_score=False,\n",
    "                                random_state=531)"
   ]
  },
  {
   "cell_type": "code",
   "execution_count": 357,
   "id": "8196853e",
   "metadata": {},
   "outputs": [
    {
     "data": {
      "text/plain": [
       "RandomForestRegressor(n_estimators=20, random_state=531)"
      ]
     },
     "execution_count": 357,
     "metadata": {},
     "output_type": "execute_result"
    }
   ],
   "source": [
    "RFModel.fit(X_train, y_train.ravel())"
   ]
  },
  {
   "cell_type": "code",
   "execution_count": 358,
   "id": "d3de50fd",
   "metadata": {},
   "outputs": [
    {
     "name": "stdout",
     "output_type": "stream",
     "text": [
      "MSE: 3.08650462962963\n"
     ]
    }
   ],
   "source": [
    "prediction = RFModel.predict(X_test)\n",
    "mse = mean_squared_error(y_test,prediction)\n",
    "print(\"MSE: {}\".format(mse))"
   ]
  },
  {
   "cell_type": "code",
   "execution_count": 359,
   "id": "5cd4b331",
   "metadata": {},
   "outputs": [],
   "source": [
    "feature_importance = RFModel.feature_importances_"
   ]
  },
  {
   "cell_type": "code",
   "execution_count": 360,
   "id": "9d0ca834",
   "metadata": {},
   "outputs": [
    {
     "name": "stdout",
     "output_type": "stream",
     "text": [
      "[0.02956252 0.01951354 0.02235862 0.92856531]\n"
     ]
    }
   ],
   "source": [
    "print(feature_importance)"
   ]
  },
  {
   "cell_type": "code",
   "execution_count": 361,
   "id": "1612fb11",
   "metadata": {},
   "outputs": [
    {
     "name": "stdout",
     "output_type": "stream",
     "text": [
      "[0.03183677 0.02101472 0.02407868 1.        ]\n"
     ]
    }
   ],
   "source": [
    "feature_importance = feature_importance / feature_importance.max()\n",
    "print(feature_importance)"
   ]
  },
  {
   "cell_type": "code",
   "execution_count": 362,
   "id": "c2f0d791",
   "metadata": {},
   "outputs": [
    {
     "name": "stdout",
     "output_type": "stream",
     "text": [
      "[3 0 2 1]\n"
     ]
    }
   ],
   "source": [
    "sorted_idx = np.argsort(feature_importance)\n",
    "print(sorted_idx[::-1])"
   ]
  },
  {
   "cell_type": "code",
   "execution_count": 363,
   "id": "ee8d2580",
   "metadata": {},
   "outputs": [
    {
     "data": {
      "text/plain": [
       "array([0.5, 1.5, 2.5, 3.5])"
      ]
     },
     "execution_count": 363,
     "metadata": {},
     "output_type": "execute_result"
    }
   ],
   "source": [
    "bar_pos = np.arange(sorted_idx.shape[0]) + .5\n",
    "bar_pos"
   ]
  },
  {
   "cell_type": "code",
   "execution_count": 364,
   "id": "4ba56180",
   "metadata": {},
   "outputs": [
    {
     "data": {
      "text/plain": [
       "array([0.02101472, 0.02407868, 0.03183677, 1.        ])"
      ]
     },
     "execution_count": 364,
     "metadata": {},
     "output_type": "execute_result"
    }
   ],
   "source": [
    "feature_importance[sorted_idx]"
   ]
  },
  {
   "cell_type": "code",
   "execution_count": 365,
   "id": "dbda7d9c",
   "metadata": {},
   "outputs": [
    {
     "data": {
      "text/plain": [
       "array(['lux', 'no', 'hum', 'temp'], dtype='<U4')"
      ]
     },
     "execution_count": 365,
     "metadata": {},
     "output_type": "execute_result"
    }
   ],
   "source": [
    "features[sorted_idx[::-1]]"
   ]
  },
  {
   "cell_type": "code",
   "execution_count": 366,
   "id": "c8ecccdd",
   "metadata": {},
   "outputs": [
    {
     "data": {
      "image/png": "[encoded data removed]",
      "text/plain": [
       "<Figure size 432x288 with 1 Axes>"
      ]
     },
     "metadata": {
      "needs_background": "light"
     },
     "output_type": "display_data"
    }
   ],
   "source": [
    "plt.barh(bar_pos, feature_importance[sorted_idx], align='center')\n",
    "plt.yticks(bar_pos, features[sorted_idx])\n",
    "plt.xlabel(\"Variable Importance\")\n",
    "plt.show()"
   ]
  },
  {
   "cell_type": "markdown",
   "id": "6860770f",
   "metadata": {},
   "source": [
    "# 실제 특징과 주요 특징 비교"
   ]
  },
  {
   "cell_type": "code",
   "execution_count": 380,
   "id": "bfc2dc52",
   "metadata": {},
   "outputs": [
    {
     "name": "stderr",
     "output_type": "stream",
     "text": [
      "/var/folders/52/4yvp7r991px0gmq4wyr894j40000gn/T/ipykernel_37390/3174755716.py:22: RuntimeWarning: invalid value encountered in true_divide\n",
      "  feature_importance = feature_importance / feature_importance.max()\n",
      "/var/folders/52/4yvp7r991px0gmq4wyr894j40000gn/T/ipykernel_37390/3174755716.py:22: RuntimeWarning: invalid value encountered in true_divide\n",
      "  feature_importance = feature_importance / feature_importance.max()\n",
      "/var/folders/52/4yvp7r991px0gmq4wyr894j40000gn/T/ipykernel_37390/3174755716.py:22: RuntimeWarning: invalid value encountered in true_divide\n",
      "  feature_importance = feature_importance / feature_importance.max()\n",
      "/var/folders/52/4yvp7r991px0gmq4wyr894j40000gn/T/ipykernel_37390/3174755716.py:22: RuntimeWarning: invalid value encountered in true_divide\n",
      "  feature_importance = feature_importance / feature_importance.max()\n",
      "/var/folders/52/4yvp7r991px0gmq4wyr894j40000gn/T/ipykernel_37390/3174755716.py:22: RuntimeWarning: invalid value encountered in true_divide\n",
      "  feature_importance = feature_importance / feature_importance.max()\n",
      "/var/folders/52/4yvp7r991px0gmq4wyr894j40000gn/T/ipykernel_37390/3174755716.py:22: RuntimeWarning: invalid value encountered in true_divide\n",
      "  feature_importance = feature_importance / feature_importance.max()\n",
      "/var/folders/52/4yvp7r991px0gmq4wyr894j40000gn/T/ipykernel_37390/3174755716.py:22: RuntimeWarning: invalid value encountered in true_divide\n",
      "  feature_importance = feature_importance / feature_importance.max()\n",
      "/var/folders/52/4yvp7r991px0gmq4wyr894j40000gn/T/ipykernel_37390/3174755716.py:22: RuntimeWarning: invalid value encountered in true_divide\n",
      "  feature_importance = feature_importance / feature_importance.max()\n",
      "/var/folders/52/4yvp7r991px0gmq4wyr894j40000gn/T/ipykernel_37390/3174755716.py:22: RuntimeWarning: invalid value encountered in true_divide\n",
      "  feature_importance = feature_importance / feature_importance.max()\n",
      "/var/folders/52/4yvp7r991px0gmq4wyr894j40000gn/T/ipykernel_37390/3174755716.py:22: RuntimeWarning: invalid value encountered in true_divide\n",
      "  feature_importance = feature_importance / feature_importance.max()\n",
      "/var/folders/52/4yvp7r991px0gmq4wyr894j40000gn/T/ipykernel_37390/3174755716.py:22: RuntimeWarning: invalid value encountered in true_divide\n",
      "  feature_importance = feature_importance / feature_importance.max()\n",
      "/var/folders/52/4yvp7r991px0gmq4wyr894j40000gn/T/ipykernel_37390/3174755716.py:22: RuntimeWarning: invalid value encountered in true_divide\n",
      "  feature_importance = feature_importance / feature_importance.max()\n",
      "/var/folders/52/4yvp7r991px0gmq4wyr894j40000gn/T/ipykernel_37390/3174755716.py:22: RuntimeWarning: invalid value encountered in true_divide\n",
      "  feature_importance = feature_importance / feature_importance.max()\n",
      "/var/folders/52/4yvp7r991px0gmq4wyr894j40000gn/T/ipykernel_37390/3174755716.py:22: RuntimeWarning: invalid value encountered in true_divide\n",
      "  feature_importance = feature_importance / feature_importance.max()\n",
      "/var/folders/52/4yvp7r991px0gmq4wyr894j40000gn/T/ipykernel_37390/3174755716.py:22: RuntimeWarning: invalid value encountered in true_divide\n",
      "  feature_importance = feature_importance / feature_importance.max()\n",
      "/var/folders/52/4yvp7r991px0gmq4wyr894j40000gn/T/ipykernel_37390/3174755716.py:22: RuntimeWarning: invalid value encountered in true_divide\n",
      "  feature_importance = feature_importance / feature_importance.max()\n",
      "/var/folders/52/4yvp7r991px0gmq4wyr894j40000gn/T/ipykernel_37390/3174755716.py:22: RuntimeWarning: invalid value encountered in true_divide\n",
      "  feature_importance = feature_importance / feature_importance.max()\n",
      "/var/folders/52/4yvp7r991px0gmq4wyr894j40000gn/T/ipykernel_37390/3174755716.py:22: RuntimeWarning: invalid value encountered in true_divide\n",
      "  feature_importance = feature_importance / feature_importance.max()\n",
      "/var/folders/52/4yvp7r991px0gmq4wyr894j40000gn/T/ipykernel_37390/3174755716.py:22: RuntimeWarning: invalid value encountered in true_divide\n",
      "  feature_importance = feature_importance / feature_importance.max()\n",
      "/var/folders/52/4yvp7r991px0gmq4wyr894j40000gn/T/ipykernel_37390/3174755716.py:22: RuntimeWarning: invalid value encountered in true_divide\n",
      "  feature_importance = feature_importance / feature_importance.max()\n"
     ]
    }
   ],
   "source": [
    "features = np.array(['no', 'temp', 'hum', 'lux'])\n",
    "_record = pd.DataFrame(columns=['user id',\n",
    "                                'imp features', \n",
    "                                'RF imp features', \n",
    "                                'mse'])\n",
    "\n",
    "for user in users:\n",
    "    df = user.survey\n",
    "    X = df[features].to_numpy().copy()\n",
    "    y = df[['score']].to_numpy().copy()\n",
    "    \n",
    "    X_train, X_test, y_train, y_test = train_test_split(X,y, test_size=0.2)\n",
    "\n",
    "    RFModel = RandomForestRegressor(n_estimators=20,\n",
    "                                oob_score=False,random_state=531)\n",
    "    RFModel.fit(X_train, y_train.ravel())\n",
    "    prediction = RFModel.predict(X_test)\n",
    "    \n",
    "    mse = mean_squared_error(y_test,prediction)\n",
    "    \n",
    "    feature_importance = RFModel.feature_importances_\n",
    "    feature_importance = feature_importance / feature_importance.max()\n",
    "    \n",
    "    sorted_idx = np.argsort(feature_importance)\n",
    "    bar_pos = np.arange(sorted_idx.shape[0]) + .5\n",
    "    \n",
    "    _features = features[sorted_idx[::-1]]\n",
    "    \n",
    "    user_id = user.user_id\n",
    "    imp_features = user.improved_features\n",
    "    imp_length = len(imp_features)\n",
    "    if imp_length == 0:\n",
    "        RF_imp_features = [_features[0]]\n",
    "    else:\n",
    "        RF_imp_features = _features[:imp_length]\n",
    "\n",
    "    _record = _record.append({\n",
    "        \"user id\": user_id,\n",
    "        \"mse\": mse,\n",
    "        \"imp features\": \",\".join(imp_features),\n",
    "        \"RF imp features\": \",\".join(RF_imp_features)\n",
    "    }, ignore_index=True)"
   ]
  },
  {
   "cell_type": "code",
   "execution_count": 381,
   "id": "292674ed",
   "metadata": {},
   "outputs": [
    {
     "data": {
      "text/html": [
       "<div>\n",
       "<style scoped>\n",
       "    .dataframe tbody tr th:only-of-type {\n",
       "        vertical-align: middle;\n",
       "    }\n",
       "\n",
       "    .dataframe tbody tr th {\n",
       "        vertical-align: top;\n",
       "    }\n",
       "\n",
       "    .dataframe thead th {\n",
       "        text-align: right;\n",
       "    }\n",
       "</style>\n",
       "<table border=\"1\" class=\"dataframe\">\n",
       "  <thead>\n",
       "    <tr style=\"text-align: right;\">\n",
       "      <th></th>\n",
       "      <th>user id</th>\n",
       "      <th>imp features</th>\n",
       "      <th>RF imp features</th>\n",
       "      <th>mse</th>\n",
       "    </tr>\n",
       "  </thead>\n",
       "  <tbody>\n",
       "    <tr>\n",
       "      <th>0</th>\n",
       "      <td>0</td>\n",
       "      <td>temp,lux</td>\n",
       "      <td>lux,temp</td>\n",
       "      <td>1.716644</td>\n",
       "    </tr>\n",
       "    <tr>\n",
       "      <th>1</th>\n",
       "      <td>1</td>\n",
       "      <td>temp,hum,lux</td>\n",
       "      <td>lux,temp,hum</td>\n",
       "      <td>0.738750</td>\n",
       "    </tr>\n",
       "    <tr>\n",
       "      <th>2</th>\n",
       "      <td>2</td>\n",
       "      <td>temp,hum,lux</td>\n",
       "      <td>lux,temp,hum</td>\n",
       "      <td>0.464352</td>\n",
       "    </tr>\n",
       "    <tr>\n",
       "      <th>3</th>\n",
       "      <td>3</td>\n",
       "      <td>hum,lux</td>\n",
       "      <td>lux,hum</td>\n",
       "      <td>1.891736</td>\n",
       "    </tr>\n",
       "    <tr>\n",
       "      <th>4</th>\n",
       "      <td>4</td>\n",
       "      <td>lux</td>\n",
       "      <td>lux</td>\n",
       "      <td>3.503681</td>\n",
       "    </tr>\n",
       "    <tr>\n",
       "      <th>...</th>\n",
       "      <td>...</td>\n",
       "      <td>...</td>\n",
       "      <td>...</td>\n",
       "      <td>...</td>\n",
       "    </tr>\n",
       "    <tr>\n",
       "      <th>95</th>\n",
       "      <td>95</td>\n",
       "      <td></td>\n",
       "      <td>lux</td>\n",
       "      <td>0.000000</td>\n",
       "    </tr>\n",
       "    <tr>\n",
       "      <th>96</th>\n",
       "      <td>96</td>\n",
       "      <td></td>\n",
       "      <td>lux</td>\n",
       "      <td>0.000000</td>\n",
       "    </tr>\n",
       "    <tr>\n",
       "      <th>97</th>\n",
       "      <td>97</td>\n",
       "      <td></td>\n",
       "      <td>lux</td>\n",
       "      <td>0.000000</td>\n",
       "    </tr>\n",
       "    <tr>\n",
       "      <th>98</th>\n",
       "      <td>98</td>\n",
       "      <td></td>\n",
       "      <td>lux</td>\n",
       "      <td>0.000000</td>\n",
       "    </tr>\n",
       "    <tr>\n",
       "      <th>99</th>\n",
       "      <td>99</td>\n",
       "      <td></td>\n",
       "      <td>lux</td>\n",
       "      <td>0.000000</td>\n",
       "    </tr>\n",
       "  </tbody>\n",
       "</table>\n",
       "<p>100 rows × 4 columns</p>\n",
       "</div>"
      ],
      "text/plain": [
       "   user id  imp features RF imp features       mse\n",
       "0        0      temp,lux        lux,temp  1.716644\n",
       "1        1  temp,hum,lux    lux,temp,hum  0.738750\n",
       "2        2  temp,hum,lux    lux,temp,hum  0.464352\n",
       "3        3       hum,lux         lux,hum  1.891736\n",
       "4        4           lux             lux  3.503681\n",
       "..     ...           ...             ...       ...\n",
       "95      95                           lux  0.000000\n",
       "96      96                           lux  0.000000\n",
       "97      97                           lux  0.000000\n",
       "98      98                           lux  0.000000\n",
       "99      99                           lux  0.000000\n",
       "\n",
       "[100 rows x 4 columns]"
      ]
     },
     "execution_count": 381,
     "metadata": {},
     "output_type": "execute_result"
    }
   ],
   "source": [
    "_record"
   ]
  },
  {
   "cell_type": "code",
   "execution_count": null,
   "id": "22d9bf6c",
   "metadata": {},
   "outputs": [],
   "source": []
  }
 ],
 "metadata": {
  "kernelspec": {
   "display_name": "Python 3 (ipykernel)",
   "language": "python",
   "name": "python3"
  },
  "language_info": {
   "codemirror_mode": {
    "name": "ipython",
    "version": 3
   },
   "file_extension": ".py",
   "mimetype": "text/x-python",
   "name": "python",
   "nbconvert_exporter": "python",
   "pygments_lexer": "ipython3",
   "version": "3.8.12"
  }
 },
 "nbformat": 4,
 "nbformat_minor": 5
}
